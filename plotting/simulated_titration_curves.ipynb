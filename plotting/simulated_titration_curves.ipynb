{
 "cells": [
  {
   "cell_type": "code",
   "execution_count": 457,
   "metadata": {},
   "outputs": [],
   "source": [
    "import numpy as np\n",
    "import sympy as sp\n",
    "import matplotlib.pyplot as plt\n",
    "from scipy.optimize import curve_fit"
   ]
  },
  {
   "cell_type": "code",
   "execution_count": 458,
   "metadata": {},
   "outputs": [],
   "source": [
    "outdir = '/Users/stephaniecrilly/Kortemme_lab/helix_sliding/figures'"
   ]
  },
  {
   "cell_type": "markdown",
   "metadata": {},
   "source": [
    "Considering a basic binding reaction, where P is a protein, B is a binder, and PB is the protein-binder bound complex:\n",
    "\n",
    "(1) P + B <-> PB\n",
    "\n",
    "(2) Kd = [P][B] / [PB]\n",
    "\n",
    "(3a) P_tot = P_free + PB \n",
    "    AND \n",
    "(3b) B_tot = B_free + PB\n",
    "\n",
    "If B_tot >> P_tot, ligand depletion is negligble and (3b) simplifies to:\n",
    "\n",
    "(3b.1) B_tot = ~B_free\n",
    "\n",
    "This is the regime we are operating in for on-yeast titration experiments in which we maintain at least 10 fold molar excess of B relative to P. Given this, we can combine (2), (3a), and (3b.1) to get the following:\n",
    "\n",
    "(4) Kd = [P_tot - PB][B_tot] / [PB] which can be rearranged to...\n",
    "\n",
    "(5) [PB] = [P_tot][B_tot] / (Kd + [B_tot])\n",
    "\n",
    "Dividing both sides of equation (5) by P_tot, the fraction of bound P can be expressed as the hyperbolic function:\n",
    "\n",
    "(6) Fb = [PB] / [P_tot] = [B_tot] / (Kd + [B_tot])"
   ]
  },
  {
   "cell_type": "markdown",
   "metadata": {},
   "source": [
    "We can define several equivalent functions to plot on-yeast binding data wth various input forms. "
   ]
  },
  {
   "cell_type": "code",
   "execution_count": 459,
   "metadata": {},
   "outputs": [],
   "source": [
    "#sample data, Nb-ALFA binding on-yeast\n",
    "conc = np.array([100000, 31600, 10000, 1000, 100, 10, 1])\n",
    "binding = np.array([125000, 119000, 100000, 99000, 70000, 20000, 5000])"
   ]
  },
  {
   "cell_type": "code",
   "execution_count": 460,
   "metadata": {},
   "outputs": [
    {
     "name": "stdout",
     "output_type": "stream",
     "text": [
      "max: 113176.68437039065, background: 4925.2958033559335, Kd: 70.09882872271461\n"
     ]
    },
    {
     "data": {
      "image/png": "[encoded data removed]",
      "text/plain": [
       "<Figure size 432x288 with 2 Axes>"
      ]
     },
     "metadata": {
      "needs_background": "light"
     },
     "output_type": "display_data"
    },
    {
     "data": {
      "text/plain": [
       "<Figure size 432x288 with 0 Axes>"
      ]
     },
     "metadata": {},
     "output_type": "display_data"
    }
   ],
   "source": [
    "#fits a hyperbolic curve\n",
    "#takes raw binding data y_vals (eg mean fluor intensity) and returns the fitted curve\n",
    "#assumes no cooperativity, hill_coeff=1\n",
    "def hyperbola(b_tot, p_tot, bg, kd): #equivalent to funcHyp\n",
    "    return (((p_tot-bg)*b_tot)/(kd+b_tot)) + bg #why does this not work if I don't subtract bg from p_tot? #try adding bounds to fit\n",
    "                                                #also equivalent to A.M.Phillips sigmoid function modified to accept non-log transformed x_vals and y_vals\n",
    "\n",
    "plotted_curve_range = np.linspace(conc[-1], conc[0], 100000) #making the increments smaller produces a smoother curve\n",
    "popt, pcov = curve_fit(hyperbola, conc, binding)\n",
    "yHYP = hyperbola(plotted_curve_range, *popt) \n",
    "print(f'max: {popt[0]}, background: {popt[1]}, Kd: {popt[2]}')\n",
    "\n",
    "plt.subplot(1,2,1)\n",
    "plt.scatter(conc, binding, marker='o', s=18, c='green', label='')\n",
    "plt.scatter(conc, hyperbola(conc, *popt), marker='o', s=18, c='blue', label='')\n",
    "plt.plot(plotted_curve_range, hyperbola(plotted_curve_range, *popt), ls='-', c='blue', label='')\n",
    "\n",
    "plt.subplot(1,2,2)\n",
    "plt.scatter(conc, binding, marker='o', s=18, c='green', label='')\n",
    "plt.scatter(conc, hyperbola(conc, *popt), marker='o', s=18, c='blue', label='')\n",
    "plt.plot(plotted_curve_range, hyperbola(plotted_curve_range, *popt), ls='-', c='blue', label='')\n",
    "plt.xscale('log')\n",
    "\n",
    "plt.show()\n",
    "plt.clf()"
   ]
  },
  {
   "cell_type": "code",
   "execution_count": 461,
   "metadata": {},
   "outputs": [
    {
     "name": "stdout",
     "output_type": "stream",
     "text": [
      "Kd: 98.97951158654982\n"
     ]
    },
    {
     "data": {
      "image/png": "[encoded data removed]",
      "text/plain": [
       "<Figure size 432x288 with 2 Axes>"
      ]
     },
     "metadata": {
      "needs_background": "light"
     },
     "output_type": "display_data"
    },
    {
     "data": {
      "text/plain": [
       "<Figure size 432x288 with 0 Axes>"
      ]
     },
     "metadata": {},
     "output_type": "display_data"
    }
   ],
   "source": [
    "#fits a hyperbolic curve to normalized data\n",
    "#assumes binding data y_vals are min-max normalized between 0 and 1\n",
    "#assumes no cooperativity, hill_coeff=1\n",
    "def hyperbola_norm(b_tot, kd): #equivalent to funcHyp_norm\n",
    "    return (b_tot/(kd+b_tot))\n",
    "\n",
    "binding_min_max = list(map(lambda x: (x - np.min(binding)) / (np.max(binding) - np.min(binding)), binding))\n",
    "\n",
    "plotted_curve_range = np.linspace(conc[-1], conc[0], 100000)\n",
    "popt, pcov = curve_fit(hyperbola_norm, conc, binding_min_max) \n",
    "yHYP = hyperbola_norm(plotted_curve_range, *popt) \n",
    "print(f'Kd: {popt[0]}')\n",
    "\n",
    "plt.subplot(1,2,1)\n",
    "plt.scatter(conc, binding_min_max, marker='o', s=18, c='green', label='')\n",
    "plt.scatter(conc, hyperbola_norm(conc, *popt), marker='o', s=18, c='blue', label='')\n",
    "plt.plot(plotted_curve_range, hyperbola_norm(plotted_curve_range, *popt), ls='-', c='blue', label='')\n",
    "\n",
    "plt.subplot(1,2,2)\n",
    "plt.scatter(conc, binding_min_max, marker='o', s=18, c='green', label='')\n",
    "plt.scatter(conc, hyperbola_norm(conc, *popt), marker='o', s=18, c='blue', label='')\n",
    "plt.plot(plotted_curve_range, hyperbola_norm(plotted_curve_range, *popt), ls='-', c='blue', label='')\n",
    "plt.xscale('log')\n",
    "\n",
    "plt.show()\n",
    "plt.clf()\n"
   ]
  },
  {
   "cell_type": "code",
   "execution_count": 462,
   "metadata": {},
   "outputs": [
    {
     "name": "stdout",
     "output_type": "stream",
     "text": [
      "max: 118.90039836690016, background: 35.51213399796197, kd: 1.3480099680997275\n"
     ]
    },
    {
     "name": "stderr",
     "output_type": "stream",
     "text": [
      "/var/folders/7h/sws1byhj2pzb__hgp1w6_3j80000gn/T/ipykernel_6356/666771800.py:4: RuntimeWarning: overflow encountered in power\n",
      "  return np.log(p_tot * (10**b_tot/((10**b_tot)+(10**Kd))) + bg) #equivalent to A.M.Phillips sigmoid function\n",
      "/var/folders/7h/sws1byhj2pzb__hgp1w6_3j80000gn/T/ipykernel_6356/666771800.py:4: RuntimeWarning: invalid value encountered in true_divide\n",
      "  return np.log(p_tot * (10**b_tot/((10**b_tot)+(10**Kd))) + bg) #equivalent to A.M.Phillips sigmoid function\n"
     ]
    },
    {
     "data": {
      "image/png": "[encoded data removed]",
      "text/plain": [
       "<Figure size 432x288 with 1 Axes>"
      ]
     },
     "metadata": {
      "needs_background": "light"
     },
     "output_type": "display_data"
    },
    {
     "data": {
      "text/plain": [
       "<Figure size 432x288 with 0 Axes>"
      ]
     },
     "metadata": {},
     "output_type": "display_data"
    }
   ],
   "source": [
    "#binding data y_vals should be passed as log10 transformed fluorescence values\n",
    "#binding data x_vals should be passed as log10 transformed concentration values\n",
    "def sigmoid(b_tot, Kd, p_tot, bg):\n",
    "    return np.log(p_tot * (10**b_tot/((10**b_tot)+(10**Kd))) + bg) #equivalent to A.M.Phillips sigmoid function\n",
    "\n",
    "log_conc = np.log10(conc)\n",
    "log_binding = np.log10(binding)\n",
    "\n",
    "popt, pcov = curve_fit(sigmoid, log_conc, log_binding)\n",
    "print(f'max: {popt[1]}, background: {popt[2]}, kd: {popt[0]}')\n",
    "yHYP = sigmoid(plotted_curve_range, *popt)   \n",
    "plotted_curve_range = np.linspace(log_conc[-1], log_conc[0], 10000)\n",
    "\n",
    "plt.scatter(log_conc, log_binding, marker='o', s=18, c='green', label='')\n",
    "plt.scatter(log_conc, sigmoid(log_conc, *popt), marker='o', s=18, c='blue', label='')\n",
    "plt.plot(plotted_curve_range, sigmoid(plotted_curve_range, *popt), ls='-', c='blue', label='')\n",
    "plt.show()\n",
    "plt.clf()\n",
    "\n",
    "#double check curve fit parameters"
   ]
  },
  {
   "cell_type": "code",
   "execution_count": 463,
   "metadata": {},
   "outputs": [
    {
     "name": "stdout",
     "output_type": "stream",
     "text": [
      "max: 118.90041157174012, background: 35.51208774294862, kd: 22.284761955553808\n"
     ]
    },
    {
     "name": "stderr",
     "output_type": "stream",
     "text": [
      "/var/folders/7h/sws1byhj2pzb__hgp1w6_3j80000gn/T/ipykernel_6356/1520453231.py:4: RuntimeWarning: invalid value encountered in log\n",
      "  return np.log(p_tot * (b_tot/((b_tot)+(Kd))) + bg) #equivalent to A.M.Phillips sigmoid function\n"
     ]
    },
    {
     "data": {
      "image/png": "[encoded data removed]",
      "text/plain": [
       "<Figure size 432x288 with 2 Axes>"
      ]
     },
     "metadata": {
      "needs_background": "light"
     },
     "output_type": "display_data"
    },
    {
     "data": {
      "text/plain": [
       "<Figure size 432x288 with 0 Axes>"
      ]
     },
     "metadata": {},
     "output_type": "display_data"
    }
   ],
   "source": [
    "#binding data y_vals should be passed as log10 transformed fluorescence values\n",
    "#binding data x_vals should be passed as pM concentration values\n",
    "def sigmoid_delog(b_tot, Kd, p_tot, bg):\n",
    "    return np.log(p_tot * (b_tot/((b_tot)+(Kd))) + bg) #equivalent to A.M.Phillips sigmoid function\n",
    "\n",
    "log_binding = np.log10(binding)\n",
    "\n",
    "popt, pcov = curve_fit(sigmoid_delog, conc, log_binding)\n",
    "print(f'max: {popt[1]}, background: {popt[2]}, kd: {popt[0]}')\n",
    "yHYP = sigmoid_delog(plotted_curve_range, *popt)   \n",
    "plotted_curve_range = np.linspace(conc[-1], conc[0], 1000000)\n",
    "\n",
    "plt.subplot(1,2,1)\n",
    "plt.scatter(conc, log_binding, marker='o', s=18, c='green', label='')\n",
    "plt.scatter(conc, sigmoid_delog(conc, *popt), marker='o', s=18, c='blue', label='')\n",
    "plt.plot(plotted_curve_range, sigmoid_delog(plotted_curve_range, *popt), ls='-', c='blue', label='')\n",
    "\n",
    "plt.subplot(1,2,2)\n",
    "plt.scatter(conc, log_binding, marker='o', s=18, c='green', label='')\n",
    "plt.scatter(conc, sigmoid_delog(conc, *popt), marker='o', s=18, c='blue', label='')\n",
    "plt.plot(plotted_curve_range, sigmoid_delog(plotted_curve_range, *popt), ls='-', c='blue', label='')\n",
    "plt.xscale('log')\n",
    "\n",
    "plt.show()\n",
    "plt.clf()\n",
    "\n",
    "#double check curve fit parameters"
   ]
  },
  {
   "cell_type": "markdown",
   "metadata": {},
   "source": [
    "The overall observed equilibrium between two switch states with one binder site is the product of two equations and their associated equilibrium constants:\n",
    "\n",
    "S1 <-> S2, Kconf = ?\n",
    "S2 + B <-> S2B, Kd =  1e-10, Ka = 1e10\n",
    "\n",
    "Where S1 is switch state 1 (binding site buried), S2 is switch state 2 (binding site exposed), the equilibrium constant, Kconf, between which is not known for designs. \n",
    "B is binder (eg Nb-ALFA), and S2B the switch 2 state bound to the binder, with the equilibrium constant here being the example measured Kd for Nb-ALFA binding to ALFA tag on yeast of ~100 pM (expressed here in M).\n",
    "\n",
    "The overall observed Kapp = Ka/(1+Kconf) (https://www.sciencedirect.com/science/article/pii/S0304416515002743#bb0105)\n",
    "                                            (https://www.sciencedirect.com/science/article/abs/pii/S1046202314003168)\n",
    "                                            (https://books.google.com/books?hl=en&lr=&id=daxAKlHw7qQC&oi=fnd&pg=PP19&ots=nCJmCrNuno&sig=Ym7-cdi3TNWt8q_eD4SZujx-73M#v=onepage&q=polyno&f=false)\n",
    "\n",
    "Kapp = [S2]/[S1] * [S2B]/[S2][B] = [S2B]/[S1][B]\n",
    "\n",
    "From these equations, we can estimate the expected shift in Kapp for Nb-ALFA binding for different equilibria between the two switch states. \n",
    "\n",
    "Below we plot these expected curves, along with a positive (bm01-alfa-t6/Nb-ALFA) and negative control binding curve (bm01alfa-t3/Nb-ALFA). "
   ]
  },
  {
   "cell_type": "code",
   "execution_count": 464,
   "metadata": {},
   "outputs": [
    {
     "name": "stdout",
     "output_type": "stream",
     "text": [
      "bm01_t6_max: 59248.057358026985, bm01_t6_background: 1853.1728319609556, bm01_t6_Kd: 43.910202831056566\n",
      "bm01_t3_max: 20233.08288603568, bm01_t3_background: 448.29307567384564, bm01_t3_Kd: 30915.287814379222\n"
     ]
    },
    {
     "data": {
      "text/plain": [
       "<Figure size 432x288 with 0 Axes>"
      ]
     },
     "metadata": {},
     "output_type": "display_data"
    }
   ],
   "source": [
    "sim_conc = np.array([1e5, 1e4, 1e3, 3.16e2, 1e2, 3.16e1, 1e1, 3.16e0, 1e0, 3.16e-1])\n",
    "bm01_t6_binding = np.array([69583.8, 57340.3, 49684.8, 49858.9, 39947.8, 28723.6, 14040.9, 6163.5, 2171.5, 992.5]) #20230729 data, pos ctrl\n",
    "bm01_t3_binding = np.array([15563.4, 5258.0, 1178.8, 755.0, 501.2, 430.5, 422.5, 394.9, 402.4, 437.8]) #20230729 data, neg ctrl\n",
    "plotted_curve_range = np.linspace(sim_conc[-1], sim_conc[0], 1000000)\n",
    "\n",
    "#fit curves to get parameters for control curves\n",
    "bm01_t6_popt, bm01_t6_pcov = curve_fit(hyperbola, sim_conc, bm01_t6_binding, bounds=[(4e2, 0, 0), (2e5, 2e5, np.inf)])\n",
    "print(f'bm01_t6_max: {bm01_t6_popt[0]}, bm01_t6_background: {bm01_t6_popt[1]}, bm01_t6_Kd: {bm01_t6_popt[2]}')\n",
    "bm01_t6_yHYP = hyperbola(plotted_curve_range, *popt)   \n",
    "plt.plot(plotted_curve_range, hyperbola(plotted_curve_range, *bm01_t6_popt), ls='-', c='darkslategray', label=f'S2, {round(bm01_t6_popt[2])}')\n",
    "\n",
    "\n",
    "bm01_t3_popt, bm01_t3_pcov = curve_fit(hyperbola, sim_conc, bm01_t3_binding, bounds=[(4e2, 0, 0), (2e5, 2e5, np.inf)])\n",
    "print(f'bm01_t3_max: {bm01_t3_popt[0]}, bm01_t3_background: {bm01_t3_popt[1]}, bm01_t3_Kd: {bm01_t3_popt[2]}')\n",
    "bm01_t3_yHYP = hyperbola(plotted_curve_range, *popt)   \n",
    "plt.plot(plotted_curve_range, hyperbola(plotted_curve_range, *bm01_t3_popt), ls='-', c='silver', label=f'S1, {round(bm01_t3_popt[2])}')\n",
    "\n",
    "\n",
    "# Kconf = [B]/[A] where A can bind ligand\n",
    "# state 1 (non-binding) : state 2 (binding) = 1 : kconf, equally favored\n",
    "kd = bm01_t6_popt[2] \n",
    "ka = 1/kd\n",
    "kconf_1 = 1\n",
    "kd_app_1 = 1/((ka)/(1+kconf_1)) #1/ to convert back to Kd from Ka\n",
    "\n",
    "plt.plot(plotted_curve_range, hyperbola(plotted_curve_range, bm01_t6_popt[0], bm01_t6_popt[1], kd_app_1), ls='-', c='darkcyan', label=f'1:1, {round(kd_app_1)}')\n",
    "\n",
    "# Kconf = [B]/[A] where A can bind ligand\n",
    "# state 1 (non-binding) : state 2 (binding) = 10 : kconf, equally favored\n",
    "kd = bm01_t6_popt[2] \n",
    "ka = 1/kd\n",
    "kconf_1e1 = 1e1\n",
    "kd_app_1e1 = 1/((ka)/(1+kconf_1e1)) #1/ to convert back to Kd from Ka\n",
    "\n",
    "plt.plot(plotted_curve_range, hyperbola(plotted_curve_range, bm01_t6_popt[0], bm01_t6_popt[1], kd_app_1e1), ls='-', c='cadetblue', label=f'1:10, {round(kd_app_1e1)}')\n",
    "\n",
    "# Kconf = [B]/[A] where A can bind ligand\n",
    "# state 1 (non-binding) : state 2 (binding) = 100 : kconf, many in non-binding state\n",
    "kd = bm01_t6_popt[2] \n",
    "ka = 1/kd\n",
    "kconf_1e2 = 1e2\n",
    "kd_app_1e2 = 1/((ka)/(1+kconf_1e2)) #1/ to convert back to Kd from Ka\n",
    "\n",
    "plt.plot(plotted_curve_range, hyperbola(plotted_curve_range, bm01_t6_popt[0], bm01_t6_popt[1], kd_app_1e2), ls='-', c='lightseagreen', label=f'1:100, {round(kd_app_1e2)}')\n",
    "\n",
    "# Kconf = [B]/[A] where A can bind ligand\n",
    "# state 1 (non-binding) : state 2 (binding) = 1000 : kconf, many in non-binding state\n",
    "kd = bm01_t6_popt[2] \n",
    "ka = 1/kd\n",
    "kconf_1e3 = 1e3\n",
    "kd_app_1e3 = 1/((ka)/(1+kconf_1e3)) #1/ to convert back to Kd from Ka\n",
    "\n",
    "plt.plot(plotted_curve_range, hyperbola(plotted_curve_range, bm01_t6_popt[0], bm01_t6_popt[1], kd_app_1e3), ls='-', c='powderblue', label=f'1:1000, {round(kd_app_1e3)}')\n",
    "plt.xscale('log')\n",
    "plt.xlabel('[Nb-ALFA] pM', fontsize=12)\n",
    "plt.ylabel('Binding (A.U.)', fontsize=12)\n",
    "plt.xticks(fontsize=12)\n",
    "plt.yticks(fontsize=12)\n",
    "plt.legend(title='S2:S1, Kd_app (pM)', loc='upper left', fontsize=10, title_fontsize=12)\n",
    "\n",
    "plt.savefig(f'{outdir}/simulated_titration_curves.png', dpi=300, bbox_inches = 'tight')\n",
    "plt.clf()"
   ]
  },
  {
   "cell_type": "markdown",
   "metadata": {},
   "source": [
    "Above we can see that as the ratio of state 1 to state 2 decreases the curves shift rightward and the Kd apparent for binding increases. \n",
    "\n",
    "For a conformational switch equilibrium between states in which state 1 (non-binding) is 1000 fold favored over state 2 (binding), Kd apparent begins to approach that observed for a negative control.\n",
    "\n",
    "Also of note for the plotted negative control binding, the upper asymptote which corresponds to the total number of functional protein molecules displayed on the surface and available for binding, is lower than for the positive control. This could reflect decreased surface display due to poor expression or aggregation in the secretory pathway, or aggregation on the cell surface occluding and decreasing the total number of available binding sites. \n",
    "\n",
    "A change in this upper asymptote may be observed for some designs which have some of the above properties. "
   ]
  }
 ],
 "metadata": {
  "kernelspec": {
   "display_name": "base",
   "language": "python",
   "name": "python3"
  },
  "language_info": {
   "codemirror_mode": {
    "name": "ipython",
    "version": 3
   },
   "file_extension": ".py",
   "mimetype": "text/x-python",
   "name": "python",
   "nbconvert_exporter": "python",
   "pygments_lexer": "ipython3",
   "version": "3.9.7"
  }
 },
 "nbformat": 4,
 "nbformat_minor": 2
}

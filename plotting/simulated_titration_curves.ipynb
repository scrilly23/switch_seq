{
 "cells": [
  {
   "cell_type": "code",
   "execution_count": 185,
   "metadata": {},
   "outputs": [],
   "source": [
    "import numpy as np\n",
    "import sympy as sp\n",
    "import matplotlib.pyplot as plt\n",
    "import scipy.optimize as so"
   ]
  },
  {
   "cell_type": "code",
   "execution_count": 186,
   "metadata": {},
   "outputs": [
    {
     "name": "stdout",
     "output_type": "stream",
     "text": [
      "[2.76486493706294e-14 8.73069338170347e-14 8.22068258019802e-14\n",
      " 2.54689859079755e-13 3.77404063909091e-13 9.97943438221154e-14\n",
      " 2.07572235150000e-13 7.88648310030395e-14 9.43510160000000e-14\n",
      " 1.00606938348197e-13 1.02758532277228e-13]\n",
      "[2.76486493706294e-11 2.75889910861830e-11 8.22068258019802e-12\n",
      " 8.04819954692025e-12 3.77404063909091e-12 3.15350126477885e-13\n",
      " 2.07572235150000e-13 2.49212865969605e-14 9.43510160000000e-15\n",
      " 3.17917925180302e-15 1.02758532277228e-15]\n",
      "[1000.00000000000 316.000000000000 100.000000000000 31.6000000000000\n",
      " 10.0000000000000 3.16000000000000 1.00000000000000 0.316000000000000\n",
      " 0.100000000000000 0.0316000000000000 0.0100000000000000]\n"
     ]
    },
    {
     "data": {
      "image/png": "[encoded data removed]",
      "text/plain": [
       "<Figure size 432x288 with 1 Axes>"
      ]
     },
     "metadata": {
      "needs_background": "light"
     },
     "output_type": "display_data"
    }
   ],
   "source": [
    "kd = 1e-10 #dissocation constant for binder measured in titration (Nb-ALFA)\n",
    "s_conc = np.array([27.67629802, 27.67629802, 8.302889406, 8.302889406, 4.151444703, 0.4151444703, 0.4151444703, 0.1037861176, 0.1037861176, 0.1037861176, 0.1037861176])\n",
    "b_conc = np.array([100000, 31600, 10000, 3160, 1000, 316, 100, 31.6, 10, 3.16, 1])\n",
    "vol = np.array([0.15, 0.15, 0.5, 0.5, 1, 10, 10, 40, 40, 40, 40])\n",
    "\n",
    "#convert from pM to M\n",
    "s_conc = s_conc * 1e-12\n",
    "b_conc = b_conc * 1e-12\n",
    "vol = vol*1e3\n",
    "\n",
    "#solve for concentrations of each switch state\n",
    "s2, s2b = sp.symbols('s2, s2b')\n",
    "s2_conc = np.array([])\n",
    "s2b_conc = np.array([])\n",
    "for i in range(0, len(s_conc)):\n",
    "    eq1= sp.Eq(s2+s2b, s_conc[i]) \n",
    "    eq2 = sp.Eq((s2*b_conc[i])/s2b, kd)\n",
    "    output = sp.solve((eq1, eq2), (s2, s2b,))\n",
    "\n",
    "    s2_conc = np.append(s2_conc, output[s2])\n",
    "    s2b_conc = np.append(s2b_conc, output[s2b])\n",
    "\n",
    "\n",
    "print(s2_conc)\n",
    "print(s2b_conc)\n",
    "\n",
    "\n",
    "\n",
    "# s2, s2b, b = sp.symbols('s2, s2b, b')\n",
    "# s2_conc = np.array([])\n",
    "# s2b_conc = np.array([])\n",
    "# free_b_conc = np.array([])\n",
    "\n",
    "# eq1= sp.Eq(s2+s2b, s_conc[6]) \n",
    "# eq2 = sp.Eq(b+s2b, b_conc[6])\n",
    "# eq3 = sp.Eq((s2*b)/s2b, kd)\n",
    "# output = sp.solve((eq1, eq2, eq3), (s2, s2b, b))\n",
    "# print(output)\n",
    "# print(output[1])\n",
    "\n",
    "\n",
    "\n",
    "\n",
    "\n",
    "\n",
    "\n",
    "\n",
    "# print(s2b_conc)\n",
    "# print(s2b_conc/s_conc)\n",
    "\n",
    "# s2b_conc_1 = kd*s_conc*b_conc\n",
    "# print(s2b_conc_1)\n",
    "# print(s_conc)\n",
    "\n",
    "s2b_frac  = s2b_conc/s2_conc\n",
    "print(s2b_frac)\n",
    "\n",
    "#plt.scatter(np.sort(b_conc), s2b_conc_1[::-1])\n",
    "plt.scatter(b_conc[::-1], s2b_frac)\n",
    "#plt.xscale('log')\n",
    "plt.show()"
   ]
  },
  {
   "cell_type": "markdown",
   "metadata": {},
   "source": [
    "The overall observed equilibrium between two switch states with one binder site is the product of two equations and their associated equilibrium constants:\n",
    "\n",
    "S1 <-> S2, Ks = ?\n",
    "S2 + B <-> S2B, Kd =  1e-10\n",
    "\n",
    "Where S1 is switch state 1 (binding site buried), S2 is switch state 2 (binding site exposed), the equilibrium constant, Ks, between which is not known for designs. \n",
    "B is binder (eg Nb-ALFA), and S2B the switch 2 state bound to the binder, with the equilibrium constant here being the example measured Kd for Nb-ALFA binding to ALFA tag on yeast of ~100 pM (expressed here in M).\n",
    "\n",
    "The overall observed Keq = Ks * Kd, or:\n",
    "\n",
    "Keq = [S2]/[S1] * [S2B]/[S2][B] = [S2B]/[S1][B]"
   ]
  },
  {
   "cell_type": "markdown",
   "metadata": {},
   "source": [
    "First, we will consider a case where the two switch states are at equal concentration at equilibrium, or Ks = 1. \n",
    "\n",
    "We will first calculate the concentration of S1 and S2 across a typical titration curve performed for a tite-seq experiment. (Per Wittrup protocols, assume 50,000 design molecules displayed on yeast surface and 50,000 yeast in various labeling volumes for each reaction to maintain binder in molar excess and avoid ligand depletion.)"
   ]
  },
  {
   "cell_type": "code",
   "execution_count": 187,
   "metadata": {},
   "outputs": [
    {
     "name": "stdout",
     "output_type": "stream",
     "text": [
      "[1.38381490100000e-8 4.37285508716000e-9 4.15144470300000e-10\n",
      " 1.31185652614800e-10 2.07572235150000e-11 6.55928263074000e-13\n",
      " 2.07572235150000e-13 1.63982065808000e-14 5.18930588000000e-15\n",
      " 1.63982065808000e-15 5.18930588000000e-16]\n",
      "[2.76762980e-11 2.76762980e-11 8.30288941e-12 8.30288941e-12\n",
      " 4.15144470e-12 4.15144470e-13 4.15144470e-13 1.03786118e-13\n",
      " 1.03786118e-13 1.03786118e-13 1.03786118e-13]\n",
      "[1000.00000000000 316.000000000000 100.000000000000 31.6000000000000\n",
      " 10.0000000000000 3.16000000000000 1.00000000000000 0.316000000000000\n",
      " 0.100000000000000 0.0316000000000000 0.0100000000000000]\n"
     ]
    }
   ],
   "source": [
    "#design concentrations from tite-seq experiment setup\n",
    "s_conc = np.array([27.67629802, 27.67629802, 8.302889406, 8.302889406, 4.151444703, 0.4151444703, 0.4151444703, 0.1037861176, 0.1037861176, 0.1037861176, 0.1037861176])\n",
    "b_conc = np.array([100000, 31600, 10000, 3160, 1000, 316, 100, 31.6, 10, 3.16, 1])\n",
    "kd = 1/1e-10 #dissocation constant for binder measured in titration (Nb-ALFA)\n",
    "kd2 = 1/5e-7 #dissociation constant for binder added in excess to lock switch state (myc)\n",
    "m_conc = 1.6e-9 #concantration of binder added in excess (M) (myc 9B11 1:100 from 25 ug/mL stock)\n",
    "ks = 1 #equilibrium constant for switch states [s2]/[s1]\n",
    "\n",
    "#convert from pM to M\n",
    "s_conc = s_conc * 1e-12\n",
    "b_conc = b_conc * 1e-12\n",
    "\n",
    "#solve for concentrations of each switch state\n",
    "s1, s2 = sp.symbols('s1, s2')\n",
    "s1_conc = np.array([])\n",
    "s2_conc = np.array([])\n",
    "for i in range(0, len(s_conc)):\n",
    "    eq1= sp.Eq(s1+s2, s_conc[i]) \n",
    "    eq2 = sp.Eq(s2/s1, ks)\n",
    "    output = sp.solve((eq1, eq2), (s1, s2))\n",
    "\n",
    "    s1_conc = np.append(s1_conc, output[s1])\n",
    "    s2_conc = np.append(s2_conc, output[s2])\n",
    "\n",
    "#solve for concentrations of each bound state s2b\n",
    "s2b_conc_1 = kd*s1_conc*b_conc\n",
    "print(s2b_conc_1)\n",
    "print(s_conc)\n",
    "frac_sat = s2b_conc_1/s2_conc\n",
    "print(s2b_conc_1/s2_conc)\n",
    "\n"
   ]
  },
  {
   "cell_type": "markdown",
   "metadata": {},
   "source": [
    "Now repeating for two binder situation when states are equally favored. "
   ]
  },
  {
   "cell_type": "code",
   "execution_count": 188,
   "metadata": {},
   "outputs": [
    {
     "name": "stdout",
     "output_type": "stream",
     "text": [
      "[1.38381490100000e-11 1.38381490100000e-11 4.15144470300000e-12\n",
      " 4.15144470300000e-12 2.07572235150000e-12 2.07572235150000e-13\n",
      " 2.07572235150000e-13 5.18930588000000e-14 5.18930588000000e-14\n",
      " 5.18930588000000e-14 5.18930588000000e-14]\n",
      "[1.38381490100000e-11 1.38381490100000e-11 4.15144470300000e-12\n",
      " 4.15144470300000e-12 2.07572235150000e-12 2.07572235150000e-13\n",
      " 2.07572235150000e-13 5.18930588000000e-14 5.18930588000000e-14\n",
      " 5.18930588000000e-14 5.18930588000000e-14]\n",
      "[1.38381490100000e-8 4.37285508716000e-9 4.15144470300000e-10\n",
      " 1.31185652614800e-10 2.07572235150000e-11 6.55928263074000e-13\n",
      " 2.07572235150000e-13 1.63982065808000e-14 5.18930588000000e-15\n",
      " 1.63982065808000e-15 5.18930588000000e-16]\n"
     ]
    }
   ],
   "source": [
    "#solve for concentrations of each switch state\n",
    "s1, s2 = sp.symbols('s1, s2')\n",
    "s1_conc = np.array([])\n",
    "s2_conc = np.array([])\n",
    "for i in range(0, len(s_conc)):\n",
    "    eq1= sp.Eq(s1+s2, s_conc[i]) \n",
    "    eq2 = sp.Eq(s2/s1, ks)\n",
    "    output = sp.solve((eq1, eq2), (s1, s2))\n",
    "\n",
    "    s1_conc = np.append(s1_conc, output[s1])\n",
    "    s2_conc = np.append(s2_conc, output[s2])\n",
    "\n",
    "s1m_conc = kd2*m_conc*s1_conc\n",
    "print(s1_conc)\n",
    "print(s2_conc)\n",
    "\n",
    "s2b_conc_2 = (((ks*kd/kd2)*s1m_conc*b_conc)/m_conc)\n",
    "print(s2b_conc_2)"
   ]
  },
  {
   "cell_type": "code",
   "execution_count": 189,
   "metadata": {},
   "outputs": [
    {
     "data": {
      "image/png": "[encoded data removed]",
      "text/plain": [
       "<Figure size 432x288 with 1 Axes>"
      ]
     },
     "metadata": {
      "needs_background": "light"
     },
     "output_type": "display_data"
    }
   ],
   "source": [
    "#test_x = np.array([5042.2, 1253.9, 422.8, 365.4, 334.3, 368.5, 346.6, 376.1, 356.4, 411.8, 300])\n",
    "#plt.scatter(np.sort(10**-b_conc), test_x[::-1])\n",
    "plt.scatter(np.sort(b_conc), frac_sat[::-1])\n",
    "#plt.scatter(np.sort(b_conc), s2b_conc_1[::-1])\n",
    "#plt.scatter(np.sort(b_conc), s2b_conc_2[::-1])\n",
    "plt.xscale('log')\n",
    "plt.show()"
   ]
  },
  {
   "cell_type": "markdown",
   "metadata": {},
   "source": [
    "Now repeating for a situation in which S2 is moderately favored over S1. "
   ]
  },
  {
   "cell_type": "code",
   "execution_count": 190,
   "metadata": {},
   "outputs": [
    {
     "name": "stdout",
     "output_type": "stream",
     "text": [
      "[4.61271633666667e-12 4.61271633666667e-12 1.38381490100000e-12\n",
      " 1.38381490100000e-12 6.91907450500000e-13 6.91907450500000e-14\n",
      " 6.91907450500000e-14 1.72976862666667e-14 1.72976862666667e-14\n",
      " 1.72976862666667e-14 1.72976862666667e-14]\n",
      "[2.30635816833333e-11 2.30635816833333e-11 6.91907450500000e-12\n",
      " 6.91907450500000e-12 3.45953725250000e-12 3.45953725250000e-13\n",
      " 3.45953725250000e-13 8.64884313333333e-14 8.64884313333333e-14\n",
      " 8.64884313333333e-14 8.64884313333333e-14]\n",
      "[1.47606922773333e-14 1.47606922773333e-14 4.42820768320000e-15\n",
      " 4.42820768320000e-15 2.21410384160000e-15 2.21410384160000e-16\n",
      " 2.21410384160000e-16 5.53525960533333e-17 5.53525960533333e-17\n",
      " 5.53525960533333e-17 5.53525960533333e-17]\n",
      "[2.30635816833333e-8 7.28809181193333e-9 6.91907450500000e-10\n",
      " 2.18642754358000e-10 3.45953725250000e-11 1.09321377179000e-12\n",
      " 3.45953725250000e-13 2.73303443013333e-14 8.64884313333333e-15\n",
      " 2.73303443013333e-15 8.64884313333333e-16]\n"
     ]
    }
   ],
   "source": [
    "ks = 5\n",
    "\n",
    "#solve for concentrations of each switch state\n",
    "s1, s2 = sp.symbols('s1, s2')\n",
    "s1_conc = np.array([])\n",
    "s2_conc = np.array([])\n",
    "for i in range(0, len(s_conc)):\n",
    "    eq1= sp.Eq(s1+s2, s_conc[i]) \n",
    "    eq2 = sp.Eq(s2/s1, ks)\n",
    "    output = sp.solve((eq1, eq2), (s1, s2))\n",
    "\n",
    "    s1_conc = np.append(s1_conc, output[s1])\n",
    "    s2_conc = np.append(s2_conc, output[s2])\n",
    "\n",
    "print(s1_conc) #something going wrong here should not be the same as s2_conc\n",
    "print(s2_conc)\n",
    "#solve for concentrations of each bound state s2b\n",
    "s2b_conc_1 = kd*s1_conc*b_conc\n",
    "\n",
    "#solve for concentrations of each switch state\n",
    "s1, s2 = sp.symbols('s1, s2')\n",
    "s1_conc = np.array([])\n",
    "s2_conc = np.array([])\n",
    "for i in range(0, len(s_conc)):\n",
    "    eq1= sp.Eq(s1+s2, s_conc[i]) \n",
    "    eq2 = sp.Eq(s2/s1, ks)\n",
    "    output = sp.solve((eq1, eq2), (s1, s2))\n",
    "\n",
    "    s1_conc = np.append(s1_conc, output[s1])\n",
    "    s2_conc = np.append(s2_conc, output[s2])\n",
    "\n",
    "s1m_conc = kd2*m_conc*s1_conc\n",
    "print(s1m_conc)\n",
    "\n",
    "s2b_conc_2 = ((((1/kd2)*ks*kd)*s1m_conc*b_conc)/m_conc)\n",
    "print(s2b_conc_2)"
   ]
  },
  {
   "cell_type": "code",
   "execution_count": 191,
   "metadata": {},
   "outputs": [
    {
     "data": {
      "image/png": "[encoded data removed]",
      "text/plain": [
       "<Figure size 432x288 with 1 Axes>"
      ]
     },
     "metadata": {
      "needs_background": "light"
     },
     "output_type": "display_data"
    }
   ],
   "source": [
    "plt.clf()\n",
    "plt.scatter(np.sort(b_conc), s2b_conc_1[::-1])\n",
    "plt.scatter(np.sort(b_conc), s2b_conc_2[::-1])\n",
    "plt.xscale('log')\n",
    "plt.show()"
   ]
  },
  {
   "cell_type": "markdown",
   "metadata": {},
   "source": [
    "Now repeating for situation in which S2 is greatly favored over S1. "
   ]
  },
  {
   "cell_type": "code",
   "execution_count": 192,
   "metadata": {},
   "outputs": [
    {
     "name": "stdout",
     "output_type": "stream",
     "text": [
      "[2.76762980200000e-31 2.76762980200000e-31 8.30288940600000e-32\n",
      " 8.30288940600000e-32 4.15144470300000e-32 4.15144470300000e-33\n",
      " 4.15144470300000e-33 1.03786117600000e-33 1.03786117600000e-33\n",
      " 1.03786117600000e-33 1.03786117600000e-33]\n",
      "[2.76762980200000e-11 2.76762980200000e-11 8.30288940600000e-12\n",
      " 8.30288940600000e-12 4.15144470300000e-12 4.15144470300000e-13\n",
      " 4.15144470300000e-13 1.03786117600000e-13 1.03786117600000e-13\n",
      " 1.03786117600000e-13 1.03786117600000e-13]\n",
      "[8.85641536640000e-34 8.85641536640000e-34 2.65692460992000e-34\n",
      " 2.65692460992000e-34 1.32846230496000e-34 1.32846230496000e-35\n",
      " 1.32846230496000e-35 3.32115576320000e-36 3.32115576320000e-36\n",
      " 3.32115576320000e-36 3.32115576320000e-36]\n"
     ]
    }
   ],
   "source": [
    "ks = 1e20\n",
    "\n",
    "#solve for concentrations of each switch state\n",
    "s1, s2 = sp.symbols('s1, s2')\n",
    "s1_conc = np.array([])\n",
    "s2_conc = np.array([])\n",
    "for i in range(0, len(s_conc)):\n",
    "    eq1= sp.Eq(s1+s2, s_conc[i]) \n",
    "    eq2 = sp.Eq(s2/s1, ks)\n",
    "    output = sp.solve((eq1, eq2), (s1, s2))\n",
    "\n",
    "    s1_conc = np.append(s1_conc, output[s1])\n",
    "    s2_conc = np.append(s2_conc, output[s2])\n",
    "\n",
    "print(s1_conc) #something going wrong here should not be the same as s2_conc\n",
    "print(s2_conc)\n",
    "#solve for concentrations of each bound state s2b\n",
    "s2b_conc_1 = kd*s1_conc*b_conc\n",
    "\n",
    "#solve for concentrations of each switch state\n",
    "s1, s2 = sp.symbols('s1, s2')\n",
    "s1_conc = np.array([])\n",
    "s2_conc = np.array([])\n",
    "for i in range(0, len(s_conc)):\n",
    "    eq1= sp.Eq(s1+s2, s_conc[i]) \n",
    "    eq2 = sp.Eq(s2/s1, ks)\n",
    "    output = sp.solve((eq1, eq2), (s1, s2))\n",
    "\n",
    "    s1_conc = np.append(s1_conc, output[s1])\n",
    "    s2_conc = np.append(s2_conc, output[s2])\n",
    "\n",
    "s1m_conc = kd2*m_conc*s1_conc\n",
    "print(s1m_conc)\n",
    "\n",
    "s2b_conc_2 = ((((1/kd2)*ks*kd)*s1m_conc*b_conc)/m_conc)\n"
   ]
  },
  {
   "cell_type": "code",
   "execution_count": 193,
   "metadata": {},
   "outputs": [
    {
     "data": {
      "image/png": "[encoded data removed]",
      "text/plain": [
       "<Figure size 432x288 with 1 Axes>"
      ]
     },
     "metadata": {
      "needs_background": "light"
     },
     "output_type": "display_data"
    }
   ],
   "source": [
    "plt.clf()\n",
    "plt.scatter(np.sort(b_conc), s2b_conc_1[::-1])\n",
    "plt.scatter(np.sort(b_conc), s2b_conc_2[::-1])\n",
    "plt.xscale('log')\n",
    "plt.show()"
   ]
  },
  {
   "cell_type": "markdown",
   "metadata": {},
   "source": [
    "Now repeating for a situation in which S1 greatly favored over S2. "
   ]
  },
  {
   "cell_type": "code",
   "execution_count": 194,
   "metadata": {},
   "outputs": [
    {
     "name": "stdout",
     "output_type": "stream",
     "text": [
      "[2.76762980200000e-11 2.76762980200000e-11 8.30288940600000e-12\n",
      " 8.30288940600000e-12 4.15144470300000e-12 4.15144470300000e-13\n",
      " 4.15144470300000e-13 1.03786117600000e-13 1.03786117600000e-13\n",
      " 1.03786117600000e-13 1.03786117600000e-13]\n",
      "[2.76762980200000e-31 2.76762980200000e-31 8.30288940600000e-32\n",
      " 8.30288940600000e-32 4.15144470300000e-32 4.15144470300000e-33\n",
      " 4.15144470300000e-33 1.03786117600000e-33 1.03786117600000e-33\n",
      " 1.03786117600000e-33 1.03786117600000e-33]\n",
      "[8.85641536640000e-14 8.85641536640000e-14 2.65692460992000e-14\n",
      " 2.65692460992000e-14 1.32846230496000e-14 1.32846230496000e-15\n",
      " 1.32846230496000e-15 3.32115576320000e-16 3.32115576320000e-16\n",
      " 3.32115576320000e-16 3.32115576320000e-16]\n"
     ]
    }
   ],
   "source": [
    "ks = 1e-20\n",
    "\n",
    "#solve for concentrations of each switch state\n",
    "s1, s2 = sp.symbols('s1, s2')\n",
    "s1_conc = np.array([])\n",
    "s2_conc = np.array([])\n",
    "for i in range(0, len(s_conc)):\n",
    "    eq1= sp.Eq(s1+s2, s_conc[i]) \n",
    "    eq2 = sp.Eq(s2/s1, ks)\n",
    "    output = sp.solve((eq1, eq2), (s1, s2))\n",
    "\n",
    "    s1_conc = np.append(s1_conc, output[s1])\n",
    "    s2_conc = np.append(s2_conc, output[s2])\n",
    "\n",
    "print(s1_conc) #something going wrong here should not be the same as s2_conc\n",
    "print(s2_conc)\n",
    "#solve for concentrations of each bound state s2b\n",
    "s2b_conc_1 = kd*s1_conc*b_conc\n",
    "\n",
    "#solve for concentrations of each switch state\n",
    "s1, s2 = sp.symbols('s1, s2')\n",
    "s1_conc = np.array([])\n",
    "s2_conc = np.array([])\n",
    "for i in range(0, len(s_conc)):\n",
    "    eq1= sp.Eq(s1+s2, s_conc[i]) \n",
    "    eq2 = sp.Eq(s2/s1, ks)\n",
    "    output = sp.solve((eq1, eq2), (s1, s2))\n",
    "\n",
    "    s1_conc = np.append(s1_conc, output[s1])\n",
    "    s2_conc = np.append(s2_conc, output[s2])\n",
    "\n",
    "s1m_conc = kd2*m_conc*s1_conc\n",
    "print(s1m_conc)\n",
    "\n",
    "s2b_conc_2 = ((((1/kd2)*ks*kd)*s1m_conc*b_conc)/m_conc)"
   ]
  },
  {
   "cell_type": "code",
   "execution_count": 195,
   "metadata": {},
   "outputs": [
    {
     "data": {
      "image/png": "[encoded data removed]",
      "text/plain": [
       "<Figure size 432x288 with 1 Axes>"
      ]
     },
     "metadata": {
      "needs_background": "light"
     },
     "output_type": "display_data"
    }
   ],
   "source": [
    "plt.clf()\n",
    "plt.scatter(np.sort(b_conc), s2b_conc_1[::-1])\n",
    "plt.scatter(np.sort(b_conc), s2b_conc_2[::-1])\n",
    "plt.xscale('log')\n",
    "plt.show()"
   ]
  }
 ],
 "metadata": {
  "kernelspec": {
   "display_name": "base",
   "language": "python",
   "name": "python3"
  },
  "language_info": {
   "codemirror_mode": {
    "name": "ipython",
    "version": 3
   },
   "file_extension": ".py",
   "mimetype": "text/x-python",
   "name": "python",
   "nbconvert_exporter": "python",
   "pygments_lexer": "ipython3",
   "version": "3.9.7"
  }
 },
 "nbformat": 4,
 "nbformat_minor": 2
}

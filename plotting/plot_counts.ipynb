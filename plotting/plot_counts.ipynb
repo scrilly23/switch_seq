{
 "cells": [
  {
   "cell_type": "code",
   "execution_count": 859,
   "metadata": {},
   "outputs": [],
   "source": [
    "import os\n",
    "import pandas as pd\n",
    "import matplotlib.pyplot as plt\n",
    "import seaborn as sns\n",
    "import numpy as np"
   ]
  },
  {
   "cell_type": "code",
   "execution_count": 860,
   "metadata": {},
   "outputs": [],
   "source": [
    "counts_table_path = '/Users/stephaniecrilly/test/count_table.csv'\n",
    "counts_table = pd.read_csv(counts_table_path, sep='\\t')\n",
    "\n",
    "flow_table_path = '/Users/stephaniecrilly/test/flow_table.csv'\n",
    "flow_table = pd.read_csv(flow_table_path)\n",
    "\n",
    "outdir = '/Users/stephaniecrilly/Kortemme_lab/helix_sliding/figures'\n",
    "\n",
    "if not os.path.exists(outdir):\n",
    "   os.makedirs(outdir)"
   ]
  },
  {
   "cell_type": "markdown",
   "metadata": {},
   "source": [
    "Each column represents a given sort condition (concentration and bin). Normalizing the counts for each design (row) as a fraction of total counts matching library designs for each sort condition by dividing each value by the summed column counts. "
   ]
  },
  {
   "cell_type": "code",
   "execution_count": 861,
   "metadata": {},
   "outputs": [],
   "source": [
    "#divide every column by the sum of the column\n",
    "norm_counts_table = counts_table.copy()\n",
    "for col in norm_counts_table.columns:\n",
    "    if col == 'design':\n",
    "        continue\n",
    "    else:\n",
    "        norm_counts_table[col] = norm_counts_table[col] / norm_counts_table[col].sum() \n",
    "\n",
    "norm_counts_table_og = norm_counts_table.copy()"
   ]
  },
  {
   "cell_type": "code",
   "execution_count": 862,
   "metadata": {},
   "outputs": [],
   "source": [
    "#get list of designs for plotting\n",
    "\n",
    "designs_to_plot = 'controls' #controls, min_0_52_g4s, min_0_52_bm01, min_0_53_g4s, min_0_53_bm01, min_2_52_g4s, min_2_52_bm01, min_2_53_g4s, min_2_53_bm01\n",
    "\n",
    "list_of_designs = norm_counts_table.design.tolist() \n",
    "selected_designs = []\n",
    "\n",
    "if designs_to_plot == 'controls':\n",
    "    #controls\n",
    "    selected_designs = ['bm01_ALFA_1c', 'bm01_ALFA_t2', 'bm01_ALFA_t3', 'bm01_ALFA_t6']\n",
    "    color_palette = ['cyan', 'red', 'orange', 'green']\n",
    "\n",
    "else:\n",
    "    color_palette = ['cyan']\n",
    "    for design in list_of_designs:\n",
    "        if designs_to_plot in design:\n",
    "            selected_designs.append(design)"
   ]
  },
  {
   "cell_type": "code",
   "execution_count": 863,
   "metadata": {},
   "outputs": [],
   "source": [
    "#selecting control designs in library for plotting\n",
    "norm_counts_table = norm_counts_table[norm_counts_table['design'].isin(selected_designs)]\n",
    "\n",
    "#reorder the columns\n",
    "cols = norm_counts_table.columns.tolist()\n",
    "#reorder list alphabetically\n",
    "cols = sorted(cols)\n",
    "norm_counts_table = norm_counts_table[cols]\n",
    "\n",
    "norm_counts_table = pd.melt(norm_counts_table, id_vars=['design'], value_vars=norm_counts_table.columns[1:])\n",
    "norm_counts_table[['library_id', 'bin']] = norm_counts_table['variable'].str.split('-hs-', expand=True)"
   ]
  },
  {
   "cell_type": "code",
   "execution_count": 864,
   "metadata": {},
   "outputs": [
    {
     "data": {
      "text/plain": [
       "<Figure size 1500x800 with 0 Axes>"
      ]
     },
     "metadata": {},
     "output_type": "display_data"
    }
   ],
   "source": [
    "#plot counts for designs across all bins with counts data\n",
    "num_subplots = len(selected_designs)\n",
    "fig, axes = plt.subplots(num_subplots, 1, figsize=(15, num_subplots*2), sharex=True)\n",
    "fig.tight_layout(pad=4.0)\n",
    "fig.supxlabel('Bin', y=-0.01)\n",
    "fig.supylabel('Normalized Counts', x=-0.01)\n",
    "\n",
    "for plot,design in enumerate(selected_designs):\n",
    "    if designs_to_plot == 'controls':\n",
    "        sns.barplot(data=norm_counts_table[norm_counts_table['design'] == f'{design}'], ax=axes[plot], x='bin', y='value', palette=[color_palette[plot]], order=['SD', '1-1', '1-2', '1-3', '1-4', '2-1', '2-2', '2-3', '2-4', '3-1', '3-2', '3-3', '3-4', '4-1', '4-2', '4-3', '4-4',\n",
    "                        '5-1', '5-2', '5-3', '5-4', '6-1', '6-2', '6-3', '6-4', '7-1', '7-2', '7-3', '7-4', '8-1', '8-2', '8-3', '8-4', '9-1', '9-2', '9-3', '10-1', '10-2', '10-3', '11-1', '11-2', '12-1']).set(xlabel=None, ylabel=None)\n",
    "\n",
    "    else: \n",
    "        sns.barplot(data=norm_counts_table[norm_counts_table['design'] == f'{design}'], ax=axes[plot], x='bin', y='value', palette=color_palette, order=['SD', '1-1', '1-2', '1-3', '1-4', '2-1', '2-2', '2-3', '2-4', '3-1', '3-2', '3-3', '3-4', '4-1', '4-2', '4-3', '4-4',\n",
    "                        '5-1', '5-2', '5-3', '5-4', '6-1', '6-2', '6-3', '6-4', '7-1', '7-2', '7-3', '7-4', '8-1', '8-2', '8-3', '8-4', '9-1', '9-2', '9-3', '10-1', '10-2', '10-3', '11-1', '11-2', '12-1']).set(xlabel=None, ylabel=None)\n",
    "    axes[plot].set_title(f'{design}')\n",
    "\n",
    "plt.savefig(f'{outdir}/normalized_counts_all_bins_{designs_to_plot}.png')\n",
    "plt.clf()"
   ]
  },
  {
   "cell_type": "code",
   "execution_count": 865,
   "metadata": {},
   "outputs": [
    {
     "data": {
      "text/plain": [
       "<Figure size 1500x800 with 0 Axes>"
      ]
     },
     "metadata": {},
     "output_type": "display_data"
    }
   ],
   "source": [
    "#plot counts for designs in bin 4 only\n",
    "num_subplots = len(selected_designs)\n",
    "fig, axes = plt.subplots(num_subplots, 1, figsize=(15, num_subplots*2), sharex=True)\n",
    "fig.tight_layout(pad=4.0)\n",
    "fig.supxlabel('Bin', y=-0.01)\n",
    "fig.supylabel('Normalized Counts', x=-0.01)\n",
    "\n",
    "for plot,design in enumerate(selected_designs):\n",
    "    if designs_to_plot == 'controls':\n",
    "        sns.barplot(data=norm_counts_table[norm_counts_table['design'] == f'{design}'], ax=axes[plot], x='bin', y='value', palette=[color_palette[plot]], order=['SD', '1-4', '2-4', '3-4', '4-4',\n",
    "                         '5-4', '6-4', '7-4', '8-4']).set(xlabel=None, ylabel=None)\n",
    "    else:\n",
    "        sns.barplot(data=norm_counts_table[norm_counts_table['design'] == f'{design}'], ax=axes[plot], x='bin', y='value', palette=color_palette, order=['SD', '1-4', '2-4', '3-4', '4-4',\n",
    "                        '5-4', '6-4', '7-4', '8-4']).set(xlabel=None, ylabel=None)\n",
    "    axes[plot].set_title(f'{design}')\n",
    "\n",
    "plt.savefig(f'{outdir}/normalized_counts_bin_4_{designs_to_plot}.png')\n",
    "plt.clf()"
   ]
  },
  {
   "cell_type": "markdown",
   "metadata": {},
   "source": [
    "When amount of antigen used in labeling is comparable in magnitude to Kd, the amount of bound antigen can provide a readout of Kd (See Adams, et al. eLife 2017 Fig 4, sup 5). \n",
    "\n",
    "Observed on-yeast Kd for ALFA tag is ~70-100 pM under labeling conditions used for tite-seq pilot sort. \n",
    "\n",
    "Computing enrichment in high fluorescence bins (2-4) for concentration 7 (100 pM), relative to the low fluorescence bin (bin1), with counts re-weighted to reflect fraction of cells within that bin. "
   ]
  },
  {
   "cell_type": "code",
   "execution_count": 866,
   "metadata": {},
   "outputs": [
    {
     "name": "stdout",
     "output_type": "stream",
     "text": [
      "                                design  r1-hs-7-1  r1-hs-7-2  r1-hs-7-3  \\\n",
      "0    01034_ALFA_53_7_min_0_53_g4s_loop   0.000154   0.030585   0.002590   \n",
      "1    01934_ALFA_53_4_min_0_53_g4s_loop   0.000506   0.000604   0.009409   \n",
      "2    02231_ALFA_53_4_min_0_53_g4s_loop   0.052993   0.000135   0.000097   \n",
      "3   02532_ALFA_53_7_min_0_53_bm01_loop   0.001722   0.005432   0.038972   \n",
      "4   02532_ALFA_53_8_min_0_53_bm01_loop   0.000936   0.001107   0.017444   \n",
      "..                                 ...        ...        ...        ...   \n",
      "92              bm01_L2_myc_ALFA_t6_v2   0.008177   0.000047   0.000034   \n",
      "93              bm01_L3_myc_ALFA_t6_v2   0.020903   0.000041   0.000034   \n",
      "94              bm01_L4_myc_ALFA_t6_v2   0.026486   0.000069   0.000020   \n",
      "95              bm01_L5_myc_ALFA_t6_v2   0.029853   0.000066   0.000067   \n",
      "96              bm01_L6_myc_ALFA_t6_v2   0.014108   0.003818   0.000024   \n",
      "\n",
      "    r1-hs-7-4  r1-hs-7-2-4  r1-hs-7-2-4_enrichment  \\\n",
      "0    0.000093     0.011363               73.820103   \n",
      "1    0.264208     0.091814              181.531297   \n",
      "2    0.000090     0.000108                0.002038   \n",
      "3    0.301298     0.115409               67.039405   \n",
      "4    0.058175     0.025492               27.230224   \n",
      "..        ...          ...                     ...   \n",
      "92   0.000042     0.000041                0.005018   \n",
      "93   0.000048     0.000041                0.001963   \n",
      "94   0.000058     0.000050                0.001875   \n",
      "95   0.000087     0.000073                0.002459   \n",
      "96   0.000039     0.001331                0.094365   \n",
      "\n",
      "    r1-hs-7-2-4_enrichment_log10  \n",
      "0                       1.868175  \n",
      "1                       2.258952  \n",
      "2                      -2.690899  \n",
      "3                       1.826330  \n",
      "4                       1.435051  \n",
      "..                           ...  \n",
      "92                     -2.299501  \n",
      "93                     -2.707109  \n",
      "94                     -2.726931  \n",
      "95                     -2.609162  \n",
      "96                     -1.025190  \n",
      "\n",
      "[97 rows x 8 columns]\n"
     ]
    },
    {
     "name": "stderr",
     "output_type": "stream",
     "text": [
      "/var/folders/7h/sws1byhj2pzb__hgp1w6_3j80000gn/T/ipykernel_52118/892247739.py:6: SettingWithCopyWarning: \n",
      "A value is trying to be set on a copy of a slice from a DataFrame.\n",
      "Try using .loc[row_indexer,col_indexer] = value instead\n",
      "\n",
      "See the caveats in the documentation: https://pandas.pydata.org/pandas-docs/stable/user_guide/indexing.html#returning-a-view-versus-a-copy\n",
      "  counts_table_conc[f'r1-hs-{conc_to_plot}-2-4'] = counts_table_conc[f'r1-hs-{conc_to_plot}-2'] + counts_table_conc[f'r1-hs-{conc_to_plot}-3'] + counts_table_conc[f'r1-hs-{conc_to_plot}-4']\n"
     ]
    }
   ],
   "source": [
    "#first pull out the data for concentration 7\n",
    "conc_to_plot = 7\n",
    "counts_table_conc = counts_table[['design', f'r1-hs-{conc_to_plot}-1', f'r1-hs-{conc_to_plot}-2', f'r1-hs-{conc_to_plot}-3', f'r1-hs-{conc_to_plot}-4']]\n",
    "\n",
    "#pool counts from high bins (2-4)\n",
    "counts_table_conc[f'r1-hs-{conc_to_plot}-2-4'] = counts_table_conc[f'r1-hs-{conc_to_plot}-2'] + counts_table_conc[f'r1-hs-{conc_to_plot}-3'] + counts_table_conc[f'r1-hs-{conc_to_plot}-4']\n",
    "\n",
    "#normalize to total counts for that concentration\n",
    "norm_counts_table_conc = counts_table_conc.copy()\n",
    "for col in norm_counts_table_conc.columns:\n",
    "    if col == 'design':\n",
    "        continue\n",
    "    else:\n",
    "        norm_counts_table_conc[col] = norm_counts_table_conc[col] / norm_counts_table_conc[col].sum() \n",
    "\n",
    "#express all columns as enrichment over bin 1\n",
    "norm_counts_table_conc[f'r1-hs-{conc_to_plot}-2-4_enrichment'] = norm_counts_table_conc[f'r1-hs-{conc_to_plot}-2-4'] / norm_counts_table_conc[f'r1-hs-{conc_to_plot}-1']\n",
    "\n",
    "norm_counts_table_conc[f'r1-hs-{conc_to_plot}-2-4_enrichment_log10'] = np.log10(norm_counts_table_conc[f'r1-hs-{conc_to_plot}-2-4_enrichment'])\n",
    "print(norm_counts_table_conc)"
   ]
  },
  {
   "cell_type": "code",
   "execution_count": 867,
   "metadata": {},
   "outputs": [
    {
     "data": {
      "image/png": "[encoded data removed]",
      "text/plain": [
       "<Figure size 640x480 with 1 Axes>"
      ]
     },
     "metadata": {},
     "output_type": "display_data"
    },
    {
     "data": {
      "text/plain": [
       "<Figure size 640x480 with 0 Axes>"
      ]
     },
     "metadata": {},
     "output_type": "display_data"
    }
   ],
   "source": [
    "#plot\n",
    "#selecting control designs in library for plotting\n",
    "norm_counts_to_plot = norm_counts_table_conc[norm_counts_table_conc['design'].isin(selected_designs)]\n",
    "\n",
    "#reorder the columns\n",
    "#cols = counts_table_conc.columns.tolist()\n",
    "#reorder list alphabetically\n",
    "# cols = sorted(cols)\n",
    "# counts_table_conc = counts_table_conc[cols]\n",
    "\n",
    "# counts_table_conc = pd.melt(counts_table_conc, id_vars=['design'], value_vars=counts_table_conc.columns[1:])\n",
    "# print(counts_table_conc)\n",
    "# counts_table_conc[['library_id', 'bin']] = counts_table_conc['variable'].str.split('-hs-', expand=True)\n",
    "\n",
    "#plot counts for designs in bin 4 only\n",
    "# num_subplots = len(selected_designs)\n",
    "# fig, axes = plt.subplots(num_subplots, 1, figsize=(4, num_subplots*2), sharex=True)\n",
    "# fig.tight_layout(pad=2.0)\n",
    "# fig.supxlabel('Bin', y=-0.01)\n",
    "# fig.supylabel('Normalized Counts', x=-0.01)\n",
    "\n",
    "sns.barplot(data=norm_counts_to_plot, x='design', y='r1-hs-7-2-4_enrichment_log10', palette=color_palette)\n",
    "\n",
    "plt.show()\n",
    "#plt.savefig(f'{outdir}/normalized_counts_conc_{conc_to_plot}_{designs_to_plot}.png')\n",
    "plt.clf()\n"
   ]
  },
  {
   "cell_type": "markdown",
   "metadata": {},
   "source": [
    "Calculating probability component from mean bin analysis at concentration 7. \n",
    "\n",
    "'The fraction of total reads in the bin corresponding to sequence s, scaled by the number of sorted cells in that bin, normalized over the four bins for each concentration.'"
   ]
  },
  {
   "cell_type": "code",
   "execution_count": 868,
   "metadata": {},
   "outputs": [
    {
     "name": "stdout",
     "output_type": "stream",
     "text": [
      "                                 design   variable     value library_id  bin\n",
      "0     01034_ALFA_53_7_min_0_53_g4s_loop  r1-hs-7-1  0.007791         r1  7-1\n",
      "1     01934_ALFA_53_4_min_0_53_g4s_loop  r1-hs-7-1  0.023083         r1  7-1\n",
      "2     02231_ALFA_53_4_min_0_53_g4s_loop  r1-hs-7-1  0.997531         r1  7-1\n",
      "3    02532_ALFA_53_7_min_0_53_bm01_loop  r1-hs-7-1  0.041260         r1  7-1\n",
      "4    02532_ALFA_53_8_min_0_53_bm01_loop  r1-hs-7-1  0.071098         r1  7-1\n",
      "..                                  ...        ...       ...        ...  ...\n",
      "383              bm01_L2_myc_ALFA_t6_v2  r1-hs-7-4  0.000324         r1  7-4\n",
      "384              bm01_L3_myc_ALFA_t6_v2  r1-hs-7-4  0.000147         r1  7-4\n",
      "385              bm01_L4_myc_ALFA_t6_v2  r1-hs-7-4  0.000139         r1  7-4\n",
      "386              bm01_L5_myc_ALFA_t6_v2  r1-hs-7-4  0.000185         r1  7-4\n",
      "387              bm01_L6_myc_ALFA_t6_v2  r1-hs-7-4  0.000150         r1  7-4\n",
      "\n",
      "[388 rows x 5 columns]\n"
     ]
    }
   ],
   "source": [
    "#normalie fraction of reads in that bin-done \n",
    "norm_counts_table_conc = norm_counts_table_conc.copy()\n",
    "\n",
    "#get number of cells sorted into each bin at given concentration\n",
    "flow_table_conc = flow_table[(flow_table['concentration'] == conc_to_plot) & (flow_table['bin'] != 'SD')]\n",
    "\n",
    "#scale normalized reads by cells sorted into each bin\n",
    "for i in range(1,5):\n",
    "    norm_counts_table_conc[f'r1-hs-{conc_to_plot}-{i}_scaled_cells'] = norm_counts_table_conc[f'r1-hs-{conc_to_plot}-{i}'] * flow_table_conc.loc[flow_table_conc['bin'] == i, 'cell count'].iloc[0]\n",
    "\n",
    "# #normalize over the four bins\n",
    "norm_counts_table_conc = norm_counts_table_conc.drop([f'r1-hs-{conc_to_plot}-1', f'r1-hs-{conc_to_plot}-2', f'r1-hs-{conc_to_plot}-3', f'r1-hs-{conc_to_plot}-4',\n",
    "                                                f'r1-hs-{conc_to_plot}-2-4', f'r1-hs-{conc_to_plot}-2-4_enrichment', f'r1-hs-{conc_to_plot}-2-4_enrichment_log10'], axis=1)\n",
    "\n",
    "for i in range(1,5):\n",
    "     norm_counts_table_conc[f'r1-hs-{conc_to_plot}-{i}_norm_prob_bin'] = norm_counts_table_conc[f'r1-hs-{conc_to_plot}-{i}_scaled_cells'] / norm_counts_table_conc.iloc[:,1:5].sum(axis=1)\n",
    "\n",
    "#clean up df\n",
    "#drop scaled cells columns\n",
    "norm_counts_table_conc = norm_counts_table_conc.drop([f'r1-hs-{conc_to_plot}-{i}_scaled_cells' for i in range(1,5)], axis=1)\n",
    "\n",
    "norm_counts_table_conc = pd.melt(norm_counts_table_conc, id_vars=['design'], value_vars=norm_counts_table_conc.columns[1:])\n",
    "norm_counts_table_conc['variable'] = norm_counts_table_conc['variable'].str.replace('_norm_prob_bin', '')\n",
    "norm_counts_table_conc[['library_id', 'bin']] = norm_counts_table_conc['variable'].str.split('-hs-', expand=True)\n",
    "\n",
    "print(norm_counts_table_conc)"
   ]
  },
  {
   "cell_type": "code",
   "execution_count": 869,
   "metadata": {},
   "outputs": [
    {
     "data": {
      "image/png": "[encoded data removed]",
      "text/plain": [
       "<Figure size 400x800 with 4 Axes>"
      ]
     },
     "metadata": {},
     "output_type": "display_data"
    },
    {
     "data": {
      "text/plain": [
       "<Figure size 640x480 with 0 Axes>"
      ]
     },
     "metadata": {},
     "output_type": "display_data"
    }
   ],
   "source": [
    "#plot counts for designs in bin 4 only\n",
    "num_subplots = len(selected_designs)\n",
    "fig, axes = plt.subplots(num_subplots, 1, figsize=(4, num_subplots*2), sharex=True)\n",
    "fig.tight_layout(pad=2.0)\n",
    "fig.supxlabel('Bin', y=-0.01)\n",
    "fig.supylabel('Normalized Counts', x=-0.005)\n",
    "\n",
    "for plot,design in enumerate(selected_designs):\n",
    "    if designs_to_plot == 'controls':\n",
    "        sns.barplot(data=norm_counts_table_conc[norm_counts_table_conc['design'] == f'{design}'], ax=axes[plot], x='bin', y='value', palette=[color_palette[plot]], order=[f'{conc_to_plot}-1', \n",
    "                                                        f'{conc_to_plot}-2', f'{conc_to_plot}-3', f'{conc_to_plot}-4']).set(xlabel=None, ylabel=None)\n",
    "    else:\n",
    "        sns.barplot(data=norm_counts_table_conc[norm_counts_table_conc['design'] == f'{design}'], ax=axes[plot], x='bin', y='value', palette=color_palette, order=[f'{conc_to_plot}-1', \n",
    "                                                        f'{conc_to_plot}-2', f'{conc_to_plot}-3', f'{conc_to_plot}-4']).set(xlabel=None, ylabel=None)\n",
    "    axes[plot].set_title(f'{design}')\n",
    "\n",
    "plt.show()\n",
    "#plt.savefig(f'{outdir}/normalized_counts_bin_4_{designs_to_plot}.png')\n",
    "plt.clf()"
   ]
  }
 ],
 "metadata": {
  "kernelspec": {
   "display_name": "omicron",
   "language": "python",
   "name": "python3"
  },
  "language_info": {
   "codemirror_mode": {
    "name": "ipython",
    "version": 3
   },
   "file_extension": ".py",
   "mimetype": "text/x-python",
   "name": "python",
   "nbconvert_exporter": "python",
   "pygments_lexer": "ipython3",
   "version": "3.8.19"
  }
 },
 "nbformat": 4,
 "nbformat_minor": 2
}

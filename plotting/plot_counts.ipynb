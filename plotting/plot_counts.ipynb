{
 "cells": [
  {
   "cell_type": "code",
   "execution_count": 561,
   "metadata": {},
   "outputs": [],
   "source": [
    "import os\n",
    "import pandas as pd\n",
    "import matplotlib.pyplot as plt\n",
    "import seaborn as sns\n",
    "import numpy as np"
   ]
  },
  {
   "cell_type": "code",
   "execution_count": 562,
   "metadata": {},
   "outputs": [],
   "source": [
    "counts_table_path = '/Users/stephaniecrilly/test/count_table.csv'\n",
    "counts_table = pd.read_csv(counts_table_path, sep='\\t')\n",
    "\n",
    "flow_table_path = '/Users/stephaniecrilly/test/flow_table.csv'\n",
    "flow_table = pd.read_csv(flow_table_path)\n",
    "\n",
    "outdir = '/Users/stephaniecrilly/Kortemme_lab/helix_sliding/figures'\n",
    "\n",
    "if not os.path.exists(outdir):\n",
    "   os.makedirs(outdir)"
   ]
  },
  {
   "cell_type": "markdown",
   "metadata": {},
   "source": [
    "Each column represents a given sort condition (concentration and bin). Normalizing the counts for each design (row) as a fraction of total counts matching library designs for each sort condition by dividing each value by the summed column counts. "
   ]
  },
  {
   "cell_type": "code",
   "execution_count": 563,
   "metadata": {},
   "outputs": [],
   "source": [
    "#divide every column by the sum of the column\n",
    "norm_counts_table = counts_table.copy()\n",
    "for col in norm_counts_table.columns:\n",
    "    if col == 'design':\n",
    "        continue\n",
    "    else:\n",
    "        norm_counts_table[col] = norm_counts_table[col] / norm_counts_table[col].sum() \n",
    "\n",
    "norm_counts_table_og = norm_counts_table.copy()"
   ]
  },
  {
   "cell_type": "code",
   "execution_count": 564,
   "metadata": {},
   "outputs": [],
   "source": [
    "#get list of designs for plotting\n",
    "\n",
    "designs_to_plot = 'min_0_52_bm01' #controls, min_0_52_g4s, min_0_52_bm01, min_0_53_g4s, min_0_53_bm01, min_2_52_g4s, min_2_52_bm01, min_2_53_g4s, min_2_53_bm01\n",
    "\n",
    "list_of_designs = norm_counts_table.design.tolist() \n",
    "selected_designs = []\n",
    "\n",
    "if designs_to_plot == 'controls':\n",
    "    #controls\n",
    "    selected_designs = ['bm01_ALFA_1c', 'bm01_ALFA_t2', 'bm01_ALFA_t3', 'bm01_ALFA_t6']\n",
    "    color_palette = ['cyan', 'red', 'orange', 'green']\n",
    "\n",
    "else:\n",
    "    color_palette = ['cyan']\n",
    "    for design in list_of_designs:\n",
    "        if designs_to_plot in design:\n",
    "            selected_designs.append(design)"
   ]
  },
  {
   "cell_type": "code",
   "execution_count": 565,
   "metadata": {},
   "outputs": [],
   "source": [
    "#selecting control designs in library for plotting\n",
    "norm_counts_table = norm_counts_table[norm_counts_table['design'].isin(selected_designs)]\n",
    "\n",
    "#reorder the columns\n",
    "cols = norm_counts_table.columns.tolist()\n",
    "#reorder list alphabetically\n",
    "cols = sorted(cols)\n",
    "norm_counts_table = norm_counts_table[cols]\n",
    "\n",
    "norm_counts_table = pd.melt(norm_counts_table, id_vars=['design'], value_vars=norm_counts_table.columns[1:])\n",
    "norm_counts_table[['library_id', 'bin']] = norm_counts_table['variable'].str.split('-hs-', expand=True)"
   ]
  },
  {
   "cell_type": "code",
   "execution_count": 566,
   "metadata": {},
   "outputs": [
    {
     "data": {
      "text/plain": [
       "<Figure size 1500x3600 with 0 Axes>"
      ]
     },
     "metadata": {},
     "output_type": "display_data"
    }
   ],
   "source": [
    "#plot counts for designs across all bins with counts data\n",
    "num_subplots = len(selected_designs)\n",
    "fig, axes = plt.subplots(num_subplots, 1, figsize=(15, num_subplots*2), sharex=True)\n",
    "fig.tight_layout(pad=2.0)\n",
    "fig.supxlabel('Bin', y=-0.01)\n",
    "fig.supylabel('Normalized Counts', x=-0.01)\n",
    "\n",
    "for plot,design in enumerate(selected_designs):\n",
    "    if designs_to_plot == 'controls':\n",
    "        sns.barplot(data=norm_counts_table[norm_counts_table['design'] == f'{design}'], ax=axes[plot], x='bin', y='value', palette=[color_palette[plot]], order=['SD', '1-1', '1-2', '1-3', '1-4', '2-1', '2-2', '2-3', '2-4', '3-1', '3-2', '3-3', '3-4', '4-1', '4-2', '4-3', '4-4',\n",
    "                        '5-1', '5-2', '5-3', '5-4', '6-1', '6-2', '6-3', '6-4', '7-1', '7-2', '7-3', '7-4', '8-1', '8-2', '8-3', '8-4', '9-1', '9-2', '9-3', '10-1', '10-2', '10-3', '11-1', '11-2', '12-1']).set(xlabel=None, ylabel=None)\n",
    "\n",
    "    else: \n",
    "        sns.barplot(data=norm_counts_table[norm_counts_table['design'] == f'{design}'], ax=axes[plot], x='bin', y='value', palette=color_palette, order=['SD', '1-1', '1-2', '1-3', '1-4', '2-1', '2-2', '2-3', '2-4', '3-1', '3-2', '3-3', '3-4', '4-1', '4-2', '4-3', '4-4',\n",
    "                        '5-1', '5-2', '5-3', '5-4', '6-1', '6-2', '6-3', '6-4', '7-1', '7-2', '7-3', '7-4', '8-1', '8-2', '8-3', '8-4', '9-1', '9-2', '9-3', '10-1', '10-2', '10-3', '11-1', '11-2', '12-1']).set(xlabel=None, ylabel=None)\n",
    "    axes[plot].set_title(f'{design}')\n",
    "\n",
    "plt.savefig(f'{outdir}/normalized_counts_all_bins_{designs_to_plot}.png')\n",
    "plt.clf()"
   ]
  },
  {
   "cell_type": "code",
   "execution_count": 567,
   "metadata": {},
   "outputs": [
    {
     "data": {
      "text/plain": [
       "<Figure size 1500x3600 with 0 Axes>"
      ]
     },
     "metadata": {},
     "output_type": "display_data"
    }
   ],
   "source": [
    "#plot counts for designs in bin 4 only\n",
    "num_subplots = len(selected_designs)\n",
    "fig, axes = plt.subplots(num_subplots, 1, figsize=(15, num_subplots*2), sharex=True)\n",
    "fig.tight_layout(pad=2.0)\n",
    "fig.supxlabel('Bin', y=-0.01)\n",
    "fig.supylabel('Normalized Counts', x=-0.01)\n",
    "\n",
    "for plot,design in enumerate(selected_designs):\n",
    "    if designs_to_plot == 'controls':\n",
    "        sns.barplot(data=norm_counts_table[norm_counts_table['design'] == f'{design}'], ax=axes[plot], x='bin', y='value', palette=[color_palette[plot]], order=['SD', '1-4', '2-4', '3-4', '4-4',\n",
    "                         '5-4', '6-4', '7-4', '8-4']).set(xlabel=None, ylabel=None)\n",
    "    else:\n",
    "        sns.barplot(data=norm_counts_table[norm_counts_table['design'] == f'{design}'], ax=axes[plot], x='bin', y='value', palette=color_palette, order=['SD', '1-4', '2-4', '3-4', '4-4',\n",
    "                        '5-4', '6-4', '7-4', '8-4']).set(xlabel=None, ylabel=None)\n",
    "    axes[plot].set_title(f'{design}')\n",
    "\n",
    "plt.savefig(f'{outdir}/normalized_counts_bin_4_{designs_to_plot}.png')\n",
    "plt.clf()"
   ]
  },
  {
   "cell_type": "markdown",
   "metadata": {},
   "source": [
    "When amount of antigen used in labeling is comparable in magnitude to Kd, the amount of bound antigen can provide a readout of Kd (See Adams, et al. eLife 2017 Fig 4, sup 5). \n",
    "\n",
    "Observed on-yeast Kd for ALFA tag is ~70-100 pM under labeling conditions used for tite-seq pilot sort. \n",
    "\n",
    "Computing enrichment in high fluorescence bins (2-4) for concentration 7 (100 pM), relative to the low fluorescence bin (bin1), with counts re-weighted to reflect fraction of cells within that bin. "
   ]
  },
  {
   "cell_type": "code",
   "execution_count": 568,
   "metadata": {},
   "outputs": [
    {
     "name": "stdout",
     "output_type": "stream",
     "text": [
      "                                design  r1-hs-7-2-4_enrichment_log10\n",
      "0    01034_ALFA_53_7_min_0_53_g4s_loop                      2.331985\n",
      "1    01934_ALFA_53_4_min_0_53_g4s_loop                      2.722762\n",
      "2    02231_ALFA_53_4_min_0_53_g4s_loop                     -2.227089\n",
      "3   02532_ALFA_53_7_min_0_53_bm01_loop                      2.290140\n",
      "4   02532_ALFA_53_8_min_0_53_bm01_loop                      1.898861\n",
      "..                                 ...                           ...\n",
      "92              bm01_L2_myc_ALFA_t6_v2                     -1.835691\n",
      "93              bm01_L3_myc_ALFA_t6_v2                     -2.243299\n",
      "94              bm01_L4_myc_ALFA_t6_v2                     -2.263121\n",
      "95              bm01_L5_myc_ALFA_t6_v2                     -2.145352\n",
      "96              bm01_L6_myc_ALFA_t6_v2                     -0.561380\n",
      "\n",
      "[97 rows x 2 columns]\n"
     ]
    },
    {
     "name": "stderr",
     "output_type": "stream",
     "text": [
      "/var/folders/7h/sws1byhj2pzb__hgp1w6_3j80000gn/T/ipykernel_52118/3080758695.py:6: SettingWithCopyWarning: \n",
      "A value is trying to be set on a copy of a slice from a DataFrame.\n",
      "Try using .loc[row_indexer,col_indexer] = value instead\n",
      "\n",
      "See the caveats in the documentation: https://pandas.pydata.org/pandas-docs/stable/user_guide/indexing.html#returning-a-view-versus-a-copy\n",
      "  counts_table_conc[f'r1-hs-{conc_to_plot}-2-4'] = counts_table_conc[f'r1-hs-{conc_to_plot}-2'] + counts_table_conc[f'r1-hs-{conc_to_plot}-3'] + counts_table_conc[f'r1-hs-{conc_to_plot}-4']\n"
     ]
    }
   ],
   "source": [
    "#first pull out the data for concentration 7\n",
    "conc_to_plot = 7\n",
    "counts_table_conc = counts_table[['design', f'r1-hs-{conc_to_plot}-1', f'r1-hs-{conc_to_plot}-2', f'r1-hs-{conc_to_plot}-3', f'r1-hs-{conc_to_plot}-4']]\n",
    "\n",
    "#pool counts from high bins (2-4)\n",
    "counts_table_conc[f'r1-hs-{conc_to_plot}-2-4'] = counts_table_conc[f'r1-hs-{conc_to_plot}-2'] + counts_table_conc[f'r1-hs-{conc_to_plot}-3'] + counts_table_conc[f'r1-hs-{conc_to_plot}-4']\n",
    "\n",
    "#drop the individual bin columns\n",
    "counts_table_conc = counts_table_conc.drop(columns=[f'r1-hs-{conc_to_plot}-2', f'r1-hs-{conc_to_plot}-3', f'r1-hs-{conc_to_plot}-4'])\n",
    "\n",
    "#normalize to total counts for that concentration\n",
    "norm_counts_table_conc = counts_table_conc.copy()\n",
    "for col in norm_counts_table_conc.columns:\n",
    "    if col == 'design':\n",
    "        continue\n",
    "    else:\n",
    "        norm_counts_table_conc[col] = norm_counts_table_conc[col] / norm_counts_table_conc[col].sum() \n",
    "\n",
    "#express all columns as enrichment over bin 1\n",
    "counts_table_conc[f'r1-hs-{conc_to_plot}-2-4_enrichment'] = counts_table_conc[f'r1-hs-{conc_to_plot}-2-4'] / counts_table_conc[f'r1-hs-{conc_to_plot}-1']\n",
    "\n",
    "counts_table_conc[f'r1-hs-{conc_to_plot}-2-4_enrichment_log10'] = np.log10(counts_table_conc[f'r1-hs-{conc_to_plot}-2-4_enrichment'])\n",
    "counts_table_conc = counts_table_conc.drop(columns=[f'r1-hs-{conc_to_plot}-1', f'r1-hs-{conc_to_plot}-2-4', f'r1-hs-{conc_to_plot}-2-4_enrichment'])\n",
    "print(counts_table_conc)"
   ]
  },
  {
   "cell_type": "code",
   "execution_count": 569,
   "metadata": {},
   "outputs": [
    {
     "name": "stdout",
     "output_type": "stream",
     "text": [
      "                                 design  r1-hs-7-2-4_enrichment_log10\n",
      "52   10632_ALFA_52_4_min_0_52_bm01_loop                      2.251710\n",
      "54  11535_ALFA_52_10_min_0_52_bm01_loop                      0.127625\n",
      "56   11832_ALFA_52_2_min_0_52_bm01_loop                     -1.936473\n",
      "58   11835_ALFA_52_6_min_0_52_bm01_loop                     -1.169609\n",
      "60   11836_ALFA_52_8_min_0_52_bm01_loop                      0.683186\n",
      "62   12133_ALFA_52_5_min_0_52_bm01_loop                      2.313033\n",
      "64   12435_ALFA_52_8_min_0_52_bm01_loop                      2.629197\n",
      "66   12733_ALFA_52_7_min_0_52_bm01_loop                     -2.496007\n",
      "68   12736_ALFA_52_5_min_0_52_bm01_loop                     -2.315005\n",
      "70   12736_ALFA_52_8_min_0_52_bm01_loop                      0.916454\n",
      "72   13033_ALFA_52_7_min_0_52_bm01_loop                     -2.110309\n",
      "74   13034_ALFA_52_8_min_0_52_bm01_loop                      0.359672\n",
      "76   13336_ALFA_52_1_min_0_52_bm01_loop                     -1.101407\n",
      "78  13337_ALFA_52_10_min_0_52_bm01_loop                     -1.153181\n",
      "80   13337_ALFA_52_8_min_0_52_bm01_loop                     -0.737911\n",
      "82   13632_ALFA_52_1_min_0_52_bm01_loop                     -1.950220\n",
      "84   13632_ALFA_52_3_min_0_52_bm01_loop                     -2.019808\n",
      "86   14236_ALFA_52_2_min_0_52_bm01_loop                     -1.967080\n"
     ]
    },
    {
     "data": {
      "image/png": "[encoded data removed]",
      "text/plain": [
       "<Figure size 640x480 with 1 Axes>"
      ]
     },
     "metadata": {},
     "output_type": "display_data"
    }
   ],
   "source": [
    "#plot\n",
    "#selecting control designs in library for plotting\n",
    "counts_table_conc = counts_table_conc[counts_table_conc['design'].isin(selected_designs)]\n",
    "\n",
    "#reorder the columns\n",
    "#cols = counts_table_conc.columns.tolist()\n",
    "#reorder list alphabetically\n",
    "# cols = sorted(cols)\n",
    "# counts_table_conc = counts_table_conc[cols]\n",
    "\n",
    "# counts_table_conc = pd.melt(counts_table_conc, id_vars=['design'], value_vars=counts_table_conc.columns[1:])\n",
    "# print(counts_table_conc)\n",
    "# counts_table_conc[['library_id', 'bin']] = counts_table_conc['variable'].str.split('-hs-', expand=True)\n",
    "\n",
    "print(counts_table_conc)\n",
    "#plot counts for designs in bin 4 only\n",
    "# num_subplots = len(selected_designs)\n",
    "# fig, axes = plt.subplots(num_subplots, 1, figsize=(4, num_subplots*2), sharex=True)\n",
    "# fig.tight_layout(pad=2.0)\n",
    "# fig.supxlabel('Bin', y=-0.01)\n",
    "# fig.supylabel('Normalized Counts', x=-0.01)\n",
    "\n",
    "sns.barplot(data=counts_table_conc, x='design', y='r1-hs-7-2-4_enrichment_log10', palette=color_palette)\n",
    "\n",
    "plt.show()\n",
    "#plt.savefig(f'{outdir}/normalized_counts_conc_{conc_to_plot}_{designs_to_plot}.png')\n",
    "#plt.clf()\n"
   ]
  },
  {
   "cell_type": "markdown",
   "metadata": {},
   "source": [
    "Next calculating probability component from mean bin analysis at concentration 7. \n",
    "\n",
    "'The fraction of total reads in the bin corresponding to sequence s, scaled by the number of sorted cells in that bin, normalized over the four bins for each concentration.'"
   ]
  },
  {
   "cell_type": "code",
   "execution_count": 570,
   "metadata": {},
   "outputs": [
    {
     "ename": "KeyError",
     "evalue": "'r1-hs-7-1'",
     "output_type": "error",
     "traceback": [
      "\u001b[0;31m---------------------------------------------------------------------------\u001b[0m",
      "\u001b[0;31mKeyError\u001b[0m                                  Traceback (most recent call last)",
      "File \u001b[0;32m/opt/anaconda3/envs/omicron/lib/python3.8/site-packages/pandas/core/indexes/base.py:3621\u001b[0m, in \u001b[0;36mIndex.get_loc\u001b[0;34m(self, key, method, tolerance)\u001b[0m\n\u001b[1;32m   3620\u001b[0m \u001b[38;5;28;01mtry\u001b[39;00m:\n\u001b[0;32m-> 3621\u001b[0m     \u001b[38;5;28;01mreturn\u001b[39;00m \u001b[38;5;28;43mself\u001b[39;49m\u001b[38;5;241;43m.\u001b[39;49m\u001b[43m_engine\u001b[49m\u001b[38;5;241;43m.\u001b[39;49m\u001b[43mget_loc\u001b[49m\u001b[43m(\u001b[49m\u001b[43mcasted_key\u001b[49m\u001b[43m)\u001b[49m\n\u001b[1;32m   3622\u001b[0m \u001b[38;5;28;01mexcept\u001b[39;00m \u001b[38;5;167;01mKeyError\u001b[39;00m \u001b[38;5;28;01mas\u001b[39;00m err:\n",
      "File \u001b[0;32m/opt/anaconda3/envs/omicron/lib/python3.8/site-packages/pandas/_libs/index.pyx:136\u001b[0m, in \u001b[0;36mpandas._libs.index.IndexEngine.get_loc\u001b[0;34m()\u001b[0m\n",
      "File \u001b[0;32m/opt/anaconda3/envs/omicron/lib/python3.8/site-packages/pandas/_libs/index.pyx:163\u001b[0m, in \u001b[0;36mpandas._libs.index.IndexEngine.get_loc\u001b[0;34m()\u001b[0m\n",
      "File \u001b[0;32mpandas/_libs/hashtable_class_helper.pxi:5198\u001b[0m, in \u001b[0;36mpandas._libs.hashtable.PyObjectHashTable.get_item\u001b[0;34m()\u001b[0m\n",
      "File \u001b[0;32mpandas/_libs/hashtable_class_helper.pxi:5206\u001b[0m, in \u001b[0;36mpandas._libs.hashtable.PyObjectHashTable.get_item\u001b[0;34m()\u001b[0m\n",
      "\u001b[0;31mKeyError\u001b[0m: 'r1-hs-7-1'",
      "\nThe above exception was the direct cause of the following exception:\n",
      "\u001b[0;31mKeyError\u001b[0m                                  Traceback (most recent call last)",
      "Cell \u001b[0;32mIn[570], line 13\u001b[0m\n\u001b[1;32m      1\u001b[0m \u001b[38;5;66;03m#normalize across the binds for that cncentration for a given design\u001b[39;00m\n\u001b[1;32m      2\u001b[0m \u001b[38;5;66;03m#counts_table_conc = counts_table_conc.iloc[:, 1:].div(counts_table_conc.sum(axis=1), axis=0)\u001b[39;00m\n\u001b[1;32m      3\u001b[0m \n\u001b[0;32m   (...)\u001b[0m\n\u001b[1;32m     10\u001b[0m \n\u001b[1;32m     11\u001b[0m \u001b[38;5;66;03m#express all columns as enrichment over bin 1\u001b[39;00m\n\u001b[1;32m     12\u001b[0m \u001b[38;5;28;01mfor\u001b[39;00m i \u001b[38;5;129;01min\u001b[39;00m \u001b[38;5;28mrange\u001b[39m(\u001b[38;5;241m1\u001b[39m,\u001b[38;5;241m5\u001b[39m):\n\u001b[0;32m---> 13\u001b[0m     counts_table_conc[\u001b[38;5;124mf\u001b[39m\u001b[38;5;124m'\u001b[39m\u001b[38;5;124mr1-hs-\u001b[39m\u001b[38;5;132;01m{\u001b[39;00mconc_to_plot\u001b[38;5;132;01m}\u001b[39;00m\u001b[38;5;124m-\u001b[39m\u001b[38;5;132;01m{\u001b[39;00mi\u001b[38;5;132;01m}\u001b[39;00m\u001b[38;5;124m'\u001b[39m] \u001b[38;5;241m=\u001b[39m \u001b[43mcounts_table_conc\u001b[49m\u001b[43m[\u001b[49m\u001b[38;5;124;43mf\u001b[39;49m\u001b[38;5;124;43m'\u001b[39;49m\u001b[38;5;124;43mr1-hs-\u001b[39;49m\u001b[38;5;132;43;01m{\u001b[39;49;00m\u001b[43mconc_to_plot\u001b[49m\u001b[38;5;132;43;01m}\u001b[39;49;00m\u001b[38;5;124;43m-\u001b[39;49m\u001b[38;5;132;43;01m{\u001b[39;49;00m\u001b[43mi\u001b[49m\u001b[38;5;132;43;01m}\u001b[39;49;00m\u001b[38;5;124;43m'\u001b[39;49m\u001b[43m]\u001b[49m \u001b[38;5;241m/\u001b[39m counts_table_conc[\u001b[38;5;124mf\u001b[39m\u001b[38;5;124m'\u001b[39m\u001b[38;5;124mr1-hs-\u001b[39m\u001b[38;5;132;01m{\u001b[39;00mconc_to_plot\u001b[38;5;132;01m}\u001b[39;00m\u001b[38;5;124m-1\u001b[39m\u001b[38;5;124m'\u001b[39m]\n\u001b[1;32m     15\u001b[0m \u001b[38;5;66;03m#print(counts_table_conc)\u001b[39;00m\n\u001b[1;32m     16\u001b[0m \u001b[38;5;28mprint\u001b[39m(counts_table_conc\u001b[38;5;241m.\u001b[39mdtypes)\n",
      "File \u001b[0;32m/opt/anaconda3/envs/omicron/lib/python3.8/site-packages/pandas/core/frame.py:3505\u001b[0m, in \u001b[0;36mDataFrame.__getitem__\u001b[0;34m(self, key)\u001b[0m\n\u001b[1;32m   3503\u001b[0m \u001b[38;5;28;01mif\u001b[39;00m \u001b[38;5;28mself\u001b[39m\u001b[38;5;241m.\u001b[39mcolumns\u001b[38;5;241m.\u001b[39mnlevels \u001b[38;5;241m>\u001b[39m \u001b[38;5;241m1\u001b[39m:\n\u001b[1;32m   3504\u001b[0m     \u001b[38;5;28;01mreturn\u001b[39;00m \u001b[38;5;28mself\u001b[39m\u001b[38;5;241m.\u001b[39m_getitem_multilevel(key)\n\u001b[0;32m-> 3505\u001b[0m indexer \u001b[38;5;241m=\u001b[39m \u001b[38;5;28;43mself\u001b[39;49m\u001b[38;5;241;43m.\u001b[39;49m\u001b[43mcolumns\u001b[49m\u001b[38;5;241;43m.\u001b[39;49m\u001b[43mget_loc\u001b[49m\u001b[43m(\u001b[49m\u001b[43mkey\u001b[49m\u001b[43m)\u001b[49m\n\u001b[1;32m   3506\u001b[0m \u001b[38;5;28;01mif\u001b[39;00m is_integer(indexer):\n\u001b[1;32m   3507\u001b[0m     indexer \u001b[38;5;241m=\u001b[39m [indexer]\n",
      "File \u001b[0;32m/opt/anaconda3/envs/omicron/lib/python3.8/site-packages/pandas/core/indexes/base.py:3623\u001b[0m, in \u001b[0;36mIndex.get_loc\u001b[0;34m(self, key, method, tolerance)\u001b[0m\n\u001b[1;32m   3621\u001b[0m     \u001b[38;5;28;01mreturn\u001b[39;00m \u001b[38;5;28mself\u001b[39m\u001b[38;5;241m.\u001b[39m_engine\u001b[38;5;241m.\u001b[39mget_loc(casted_key)\n\u001b[1;32m   3622\u001b[0m \u001b[38;5;28;01mexcept\u001b[39;00m \u001b[38;5;167;01mKeyError\u001b[39;00m \u001b[38;5;28;01mas\u001b[39;00m err:\n\u001b[0;32m-> 3623\u001b[0m     \u001b[38;5;28;01mraise\u001b[39;00m \u001b[38;5;167;01mKeyError\u001b[39;00m(key) \u001b[38;5;28;01mfrom\u001b[39;00m \u001b[38;5;21;01merr\u001b[39;00m\n\u001b[1;32m   3624\u001b[0m \u001b[38;5;28;01mexcept\u001b[39;00m \u001b[38;5;167;01mTypeError\u001b[39;00m:\n\u001b[1;32m   3625\u001b[0m     \u001b[38;5;66;03m# If we have a listlike key, _check_indexing_error will raise\u001b[39;00m\n\u001b[1;32m   3626\u001b[0m     \u001b[38;5;66;03m#  InvalidIndexError. Otherwise we fall through and re-raise\u001b[39;00m\n\u001b[1;32m   3627\u001b[0m     \u001b[38;5;66;03m#  the TypeError.\u001b[39;00m\n\u001b[1;32m   3628\u001b[0m     \u001b[38;5;28mself\u001b[39m\u001b[38;5;241m.\u001b[39m_check_indexing_error(key)\n",
      "\u001b[0;31mKeyError\u001b[0m: 'r1-hs-7-1'"
     ]
    }
   ],
   "source": [
    "#normalie fraction of reads in that bin-done \n",
    "\n",
    "\n",
    "\n",
    "#normalize across the binds for that cncentration for a given design\n",
    "#counts_table_conc = counts_table_conc.iloc[:, 1:].div(counts_table_conc.sum(axis=1), axis=0)\n",
    "\n",
    "#normalize to total counts within each sample\n",
    "\n",
    "\n",
    "#normalie to cell counts for each bin\n",
    "#for i in range(1,5):\n",
    "    #counts_table_conc[f'r1-hs-{conc_to_plot}-{i}'] = counts_table_conc[f'r1-hs-{conc_to_plot}-{i}'] / flow_table_conc.loc[flow_table_conc['bin'] == i, 'cell count norm'].iloc[0]\n",
    "\n",
    "#express all columns as enrichment over bin 1\n",
    "for i in range(1,5):\n",
    "    counts_table_conc[f'r1-hs-{conc_to_plot}-{i}'] = counts_table_conc[f'r1-hs-{conc_to_plot}-{i}'] / counts_table_conc[f'r1-hs-{conc_to_plot}-1']\n",
    "\n",
    "#print(counts_table_conc)\n",
    "print(counts_table_conc.dtypes)\n",
    "\n",
    "for col in counts_table_conc.columns:\n",
    "    if col == 'design':\n",
    "        continue\n",
    "    else:\n",
    "        counts_table_conc[col] = np.log10(counts_table_conc[col])\n",
    "\n",
    "counts_table_conc = pd.concat([counts_table['design'], counts_table_conc], axis=1)\n",
    "print(counts_table_conc.query(\"design == 'bm01_ALFA_1c'\"))"
   ]
  }
 ],
 "metadata": {
  "kernelspec": {
   "display_name": "omicron",
   "language": "python",
   "name": "python3"
  },
  "language_info": {
   "codemirror_mode": {
    "name": "ipython",
    "version": 3
   },
   "file_extension": ".py",
   "mimetype": "text/x-python",
   "name": "python",
   "nbconvert_exporter": "python",
   "pygments_lexer": "ipython3",
   "version": "3.8.19"
  }
 },
 "nbformat": 4,
 "nbformat_minor": 2
}

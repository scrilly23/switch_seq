{
 "cells": [
  {
   "cell_type": "code",
   "execution_count": 38,
   "metadata": {},
   "outputs": [],
   "source": [
    "import pandas as pd\n",
    "import numpy as np\n",
    "from scipy.optimize import curve_fit\n",
    "from matplotlib import pyplot as plt\n",
    "import seaborn as sns"
   ]
  },
  {
   "cell_type": "code",
   "execution_count": 39,
   "metadata": {},
   "outputs": [],
   "source": [
    "####USER DEFINED VARIABLES####\n",
    "\n",
    "#read in a csv from cytoflex with all wells exported from cytoflex\n",
    "#load in replicates and merge\n",
    "bc_6_rep1 = pd.read_csv('/Users/stephaniecrilly/Library/CloudStorage/Box-Box/kortemmelab/home/scrilly/helix_sliding/20230729_bm01_cterm_alfa_titrations/20230729_bm01_cterm_alfa_titrations_analysis_sample_ids.csv')\n",
    "bc_6_rep2 = pd.read_csv('/Users/stephaniecrilly/Library/CloudStorage/Box-Box/kortemmelab/home/scrilly/helix_sliding/20230726_ba_1_6_titration/20230726_ba_1_6_analysis_sample_ids.csv')\n",
    "\n",
    "bc_3_rep1 = pd.read_csv('/Users/stephaniecrilly/Library/CloudStorage/Box-Box/kortemmelab/home/scrilly/helix_sliding/20230729_bm01_cterm_alfa_titrations/20230729_bm01_cterm_alfa_titrations_analysis_sample_ids.csv')\n",
    "bc_3_rep2 = pd.read_csv('/Users/stephaniecrilly/Library/CloudStorage/Box-Box/kortemmelab/home/scrilly/helix_sliding/20230722_bm01_alfa_ab_2_yeast_titration/20230722_bm01_alfa_3_4_5_analysis_w_sample_ids.csv')\n",
    "\n",
    "bc_2_rep1 = pd.read_csv('/Users/stephaniecrilly/Library/CloudStorage/Box-Box/kortemmelab/home/scrilly/helix_sliding/20230729_bm01_cterm_alfa_titrations/20230729_bm01_cterm_alfa_titrations_analysis_sample_ids.csv')\n",
    "bc_2_rep2 = pd.read_csv('/Users/stephaniecrilly/Library/CloudStorage/Box-Box/kortemmelab/home/scrilly/helix_sliding/20230721_bm01_alfa_ab_2_yeast_titration/20230721_bm01_alfa_ab_2_analysis_w_sample_ids.csv')\n",
    "\n",
    "alfa_ctrl_rep1 = pd.read_csv('/Users/stephaniecrilly/Library/CloudStorage/Box-Box/kortemmelab/home/scrilly/helix_sliding/20230601_on_yeast_kds/20230601_alfa_titration_kds_analysis_sample_ids.csv')\n",
    "alfa_ctrl_rep2 = pd.read_csv('/Users/stephaniecrilly/Library/CloudStorage/Box-Box/kortemmelab/home/scrilly/helix_sliding/20230607_alfa_yeast_titration/20230607_alfa_titration_analysis_sample_ids.csv')\n",
    "\n",
    "outdir = '/Users/stephaniecrilly/Kortemme_lab/helix_sliding/figures'\n",
    "file_header = 'on-yeast_clonal_ctrls'\n",
    "\n",
    "####"
   ]
  },
  {
   "cell_type": "code",
   "execution_count": 40,
   "metadata": {},
   "outputs": [],
   "source": [
    "####FUNCTIONS####\n",
    "\n",
    "def sigmoid(b_tot, Kd, p_tot, bg):\n",
    "    '''\n",
    "    Equation for a sigmoidal curve\n",
    "    For curve fit with this function, \n",
    "    pass array of y vals as log10 transformed fluorescence\n",
    "    paass array of x vals as -log10 transformed concentration of binder\n",
    "    \n",
    "    Parameters:\n",
    "    b_tot: -log10 transformed binder concentration values (Molar)\n",
    "    Kd: dissociation constant\n",
    "    p_tot: total protein concentration (upper asymptote)\n",
    "    bg: background signal (lower aymptote)\n",
    "\n",
    "    '''\n",
    "    return np.log(p_tot * (10**b_tot/((10**b_tot)+(10**Kd))) + bg) #equivalent to A.M.Phillips sigmoid function\n",
    "\n",
    "####"
   ]
  },
  {
   "cell_type": "code",
   "execution_count": 41,
   "metadata": {},
   "outputs": [],
   "source": [
    "#merge dfs\n",
    "bc_6_merge_df = bc_6_rep1.merge(bc_6_rep2, on='Sample ID:', how='left', suffixes=['_rep1', '_rep2'])\n",
    "bc_3_merge_df = bc_3_rep1.merge(bc_3_rep2, on='Sample ID:', how='left', suffixes=['_rep1', '_rep2'])\n",
    "bc_2_merge_df = bc_2_rep1.merge(bc_2_rep2, on='Sample ID:', how='left', suffixes=['_rep1', '_rep2'])\n",
    "alfa_ctrl_merge_df = alfa_ctrl_rep1.merge(alfa_ctrl_rep2, on='Sample ID:', how='left', suffixes=['_rep1', '_rep2'])\n",
    "alfa_bm01_exps_merge_df = bc_6_rep1.merge(bc_3_rep2, on='Sample ID:', how='left', suffixes=['_rep1', '_rep2'])\n",
    "alfa_bm01_exps_merge_df = alfa_bm01_exps_merge_df.merge(bc_2_rep2, on='Sample ID:', how='left')\n",
    "\n",
    "bc_6_merge_df[['Construct', 'Induction', 'Nb-ALFA [pM]']] = bc_6_merge_df['Sample ID:'].str.split('_', expand=True)\n",
    "bc_3_merge_df[['Construct', 'Induction', 'Nb-ALFA [pM]']] = bc_3_merge_df['Sample ID:'].str.split('_', expand=True)\n",
    "bc_2_merge_df[['Construct', 'Induction', 'Nb-ALFA [pM]']] = bc_2_merge_df['Sample ID:'].str.split('_', expand=True)\n",
    "alfa_ctrl_merge_df[['Construct', 'Induction', 'Nb-ALFA [pM]']] = alfa_ctrl_merge_df['Sample ID:'].str.split('_', expand=True)\n",
    "alfa_bm01_exps_merge_df[['Construct', 'Induction', 'Nb-ALFA [pM]']] = alfa_bm01_exps_merge_df['Sample ID:'].str.split('_', expand=True)\n",
    "\n",
    "bc_6_merge_sg_df = bc_6_merge_df.query(\"Induction == 'SG'\", engine='python').copy()\n",
    "bc_3_merge_sg_df = bc_3_merge_df.query(\"Induction == 'SG'\", engine='python').copy()\n",
    "bc_2_merge_sg_df = bc_2_merge_df.query(\"Induction == 'SG'\", engine='python').copy()\n",
    "alfa_ctrl_sg_merge_df = alfa_ctrl_merge_df.query(\"Induction == 'SG'\", engine='python').copy()\n",
    "alfa_bm01_exps_sg_merge_df = alfa_bm01_exps_merge_df.query(\"Induction == 'SG'\", engine='python').copy()\n",
    "\n",
    "alfa_bm01_exps_df = alfa_bm01_exps_sg_merge_df.query(\"Construct == 'ALFA'\", engine='python').copy()\n",
    "bm01_alfa_sg_df = bc_6_merge_sg_df.query(\"Construct == 'ALFA-bm01-alfa'\", engine='python').copy()\n",
    "thread_6_sg_df = bc_6_merge_sg_df.query(\"Construct == 'ALFA-bm01-6'\", engine='python').copy()\n",
    "thread_3_sg_df = bc_3_merge_sg_df.query(\"Construct == 'ALFA-bm01-3'\", engine='python').copy()\n",
    "thread_2_sg_df = bc_2_merge_sg_df.query(\"Construct == 'ALFA-bm01-2'\", engine='python').copy()\n",
    "alfa_ctrl_3_df = alfa_ctrl_sg_merge_df.query(\"Construct == 'ALFA-3'\", engine='python').copy()\n",
    "alfa_ctrl_7_df = alfa_ctrl_sg_merge_df.query(\"Construct == 'ALFA-7'\", engine='python').copy()\n",
    "alfa_ctrl_ala_df = alfa_ctrl_sg_merge_df.query(\"Construct == 'poly-Ala'\", engine='python').copy()\n",
    "alfa_ctrl_sg_df = alfa_ctrl_sg_merge_df.query(\"Construct == 'ALFA'\", engine='python').copy()"
   ]
  },
  {
   "cell_type": "code",
   "execution_count": 42,
   "metadata": {},
   "outputs": [
    {
     "name": "stdout",
     "output_type": "stream",
     "text": [
      "[ 7.          8.          9.          9.50031292 10.         10.50031292\n",
      " 11.         11.50031292 12.         12.50031292  7.          8.\n",
      "  9.          9.50031292 10.         10.50031292 11.         11.50031292\n",
      " 12.         12.50031292  7.          8.          9.          9.50031292\n",
      " 10.         10.50031292 11.         11.50031292 12.         12.50031292]\n",
      "[5.01768054 4.95062672 4.86839519 4.85196244 4.74542068 4.51735559\n",
      " 4.20897315 3.77737607 3.33203428 3.05530186 4.86788626 4.8256364\n",
      " 4.75086849 4.7059321  4.57551344 4.34082074 3.91875356 3.49227136\n",
      " 3.09008162 2.82510141 4.88610307 4.86138743 4.80363394 4.79188425\n",
      " 4.67513283 4.497343   4.16674085 3.75155622 3.32652019 2.93916968]\n",
      "[-10.83177837 108.64863464  17.70328715]\n"
     ]
    },
    {
     "data": {
      "text/plain": [
       "<matplotlib.legend.Legend at 0x7fbf503140a0>"
      ]
     },
     "execution_count": 42,
     "metadata": {},
     "output_type": "execute_result"
    },
    {
     "data": {
      "image/png": "[encoded data removed]",
      "text/plain": [
       "<Figure size 640x480 with 1 Axes>"
      ]
     },
     "metadata": {},
     "output_type": "display_data"
    }
   ],
   "source": [
    "plotted_curve_range = np.linspace(-13, -7, 100000)\n",
    "plot_colors=['blue', 'cyan', 'green', 'red', 'orange']\n",
    "legend_labels = ['ALFA_ctrl', 'Design-1c (0)', 'Design-6 (3)', 'Design-3 (7)', 'Design-2 (10)']\n",
    "\n",
    "#ALFA_ctrl\n",
    "x_data = np.concatenate((alfa_bm01_exps_df['Nb-ALFA [pM]'], alfa_bm01_exps_df['Nb-ALFA [pM]'], alfa_bm01_exps_df['Nb-ALFA [pM]']))\n",
    "x_data = -np.log10(x_data.astype(float)*1e-12)\n",
    "\n",
    "y_data = np.concatenate((alfa_bm01_exps_df['GFP-positive Median APC-A_rep1'], alfa_bm01_exps_df['GFP-positive Median APC-A_rep2'], alfa_bm01_exps_df['GFP-positive Median APC-A']))\n",
    "y_data = np.log10(y_data)\n",
    "\n",
    "print(x_data)\n",
    "print(y_data)\n",
    "\n",
    "popt, pcov = curve_fit(sigmoid, -x_data,\n",
    "                                          y_data,\n",
    "                                          p0=[(-10), 10**(5), 10**(3)],\n",
    "                                          bounds=[(-12,\n",
    "                                                   100,\n",
    "                                                   1),\n",
    "                                                  (-7,\n",
    "                                                   1000000,\n",
    "                                                   100000)],\n",
    "                                          maxfev=400000)\n",
    "\n",
    "print(popt)    \n",
    "\n",
    "plt.scatter((10**-x_data), y_data, marker='o', s=10, c='blue', label='')\n",
    "plt.plot((10**plotted_curve_range), sigmoid(plotted_curve_range, *popt), ls='-', label='ALFA', color='blue')\n",
    "plt.xscale('log')\n",
    "plt.legend(labels=legend_labels, loc='upper left', fontsize=16, frameon=False)  "
   ]
  },
  {
   "cell_type": "code",
   "execution_count": 44,
   "metadata": {},
   "outputs": [
    {
     "data": {
      "text/plain": [
       "<Figure size 640x480 with 0 Axes>"
      ]
     },
     "metadata": {},
     "output_type": "display_data"
    }
   ],
   "source": [
    "plotted_curve_range = np.linspace(-13, -7, 100000)\n",
    "plot_colors=['blue', 'cyan', 'red', 'orange', 'green']\n",
    "legend_labels = ['ALFA_ctrl', 'Design-1c (0)', 'Design-2 (10)', 'Design-3 (7)',  'Design-6 (3)']\n",
    "dfs_to_plot = [alfa_bm01_exps_df, bm01_alfa_sg_df, thread_2_sg_df, thread_3_sg_df, thread_6_sg_df]\n",
    "#alfa ctrl have three replicates but omitting one for now for ease of plotting because other conditions only have 2\n",
    "        #--see above, all three replicates are plotted and similar\n",
    "\n",
    "for i,j in enumerate(dfs_to_plot):\n",
    "    x_vals = np.concatenate((j['Nb-ALFA [pM]'], j['Nb-ALFA [pM]']))\n",
    "    x_vals = -np.log10(x_vals.astype(float)*1e-12)\n",
    "\n",
    "    y_vals = np.concatenate((j['GFP-positive Median APC-A_rep1'], j['GFP-positive Median APC-A_rep2']))\n",
    "    y_vals = np.log10(y_vals)\n",
    "\n",
    "    popt, pcov = curve_fit(sigmoid, -x_vals,\n",
    "                                    y_vals,\n",
    "                                    p0=[(-10), 10**(5), 10**(3)],\n",
    "                                    bounds=[(-12,\n",
    "                                                100,\n",
    "                                                1),\n",
    "                                            (-7,\n",
    "                                                1000000,\n",
    "                                                100000)],\n",
    "                                    maxfev=400000)\n",
    "\n",
    "    #for fitting to non-binders which don't sample full curve\n",
    "    if round(10**(popt[0])*1e12) == 100000:\n",
    "        kd_val = '> 50000'\n",
    "    else:\n",
    "        kd_val = round(10**(popt[0])*1e12)\n",
    "\n",
    "    plt.scatter((10**-x_vals), y_vals, marker='o', s=10, c=plot_colors[i], label='')\n",
    "    plt.plot((10**plotted_curve_range), sigmoid(plotted_curve_range, *popt), ls='-', label=f'{legend_labels[i]}, Kd (pM): {kd_val}', color=plot_colors[i])\n",
    "\n",
    "plt.xscale('log')\n",
    "plt.xlabel('[Nb-ALFA] M', fontsize=16)\n",
    "plt.ylabel('Fluorescence (Log AU)', fontsize=16)\n",
    "plt.xticks(fontsize=16)\n",
    "plt.yticks(fontsize=16)\n",
    "plt.legend(loc='upper center', bbox_to_anchor=[0.5,1.6], fontsize=16)\n",
    "\n",
    "plt.show()\n",
    "#plt.savefig(f'{outdir}/{file_header}_non_norm_binding.png', dpi=300, bbox_inches = 'tight')\n",
    "plt.clf()"
   ]
  }
 ],
 "metadata": {
  "kernelspec": {
   "display_name": "base",
   "language": "python",
   "name": "python3"
  },
  "language_info": {
   "codemirror_mode": {
    "name": "ipython",
    "version": 3
   },
   "file_extension": ".py",
   "mimetype": "text/x-python",
   "name": "python",
   "nbconvert_exporter": "python",
   "pygments_lexer": "ipython3",
   "version": "3.10.14"
  }
 },
 "nbformat": 4,
 "nbformat_minor": 2
}

{
 "cells": [
  {
   "cell_type": "code",
   "execution_count": null,
   "metadata": {},
   "outputs": [],
   "source": [
    "import pandas as pd\n",
    "import numpy as np\n",
    "import seaborn as sns\n",
    "import matplotlib.pyplot as plt"
   ]
  },
  {
   "cell_type": "code",
   "execution_count": null,
   "metadata": {},
   "outputs": [],
   "source": [
    "###USER DEFINED VARIABLES####\n",
    "outdir = '/Users/stephaniecrilly/Kortemme_lab/helix_sliding/20240304_ngs_data'\n",
    "#import dfs\n",
    "ordered_seqs_df = pd.read_csv('/Users/stephaniecrilly/Kortemme_lab/helix_sliding/20240304_ngs_data/20240304_all_seqs_r1_order.csv')\n",
    "myc_pos_df = pd.read_csv('/Users/stephaniecrilly/Kortemme_lab/helix_sliding/20240304_ngs_data/30-991152039/UniqueSeq/r1-hs-mycpos_Unique_AA.csv')\n",
    "myc_neg_df = pd.read_csv('/Users/stephaniecrilly/Kortemme_lab/helix_sliding/20240304_ngs_data/30-991152039/UniqueSeq/r1-hs-mycneg_Unique_AA.csv')\n",
    "ns_df  = pd.read_csv('/Users/stephaniecrilly/Kortemme_lab/helix_sliding/20240304_ngs_data/30-991152039/UniqueSeq/r1-hs-ns_Unique_AA.csv')"
   ]
  },
  {
   "cell_type": "code",
   "execution_count": null,
   "metadata": {},
   "outputs": [],
   "source": [
    "#drop na\n",
    "myc_pos_df = myc_pos_df.dropna()\n",
    "myc_neg_df = myc_neg_df.dropna()\n",
    "ns_df = ns_df.dropna()\n",
    "\n",
    "#get only design sequences of interest\n",
    "#search translated seqs for ones which start and end with flanking aa\n",
    "mys_pos_df = myc_pos_df[myc_pos_df['Unique Amino Acid'].str.startswith('SASHM')]\n",
    "mys_ned_df = myc_neg_df[myc_neg_df['Unique Amino Acid'].str.startswith('SASHM')]\n",
    "ns_df = ns_df[ns_df['Unique Amino Acid'].str.startswith('SASHM')]\n",
    "\n",
    "myc_pos_df = myc_pos_df[myc_pos_df['Unique Amino Acid'].str.endswith('LEGGG')]\n",
    "myc_neg_df = myc_neg_df[myc_neg_df['Unique Amino Acid'].str.endswith('LEGGG')]\n",
    "ns_df = ns_df[ns_df['Unique Amino Acid'].str.endswith('LEGGG')]\n",
    "\n",
    "#append trailing amino acid to ordered seqs\n",
    "ordered_seqs_df['sequence'] = 'SASHM' + ordered_seqs_df['aa_sequence'].astype(str) + 'LEGGG'\n",
    "\n",
    "#get only seqs in library\n",
    "myc_pos_df = pd.merge(ordered_seqs_df, myc_pos_df, left_on='sequence', right_on='Unique Amino Acid', how='inner')\n",
    "myc_neg_df = pd.merge(ordered_seqs_df, myc_neg_df, left_on='sequence', right_on='Unique Amino Acid', how='inner')\n",
    "ns_df = pd.merge(ordered_seqs_df, ns_df, left_on='sequence', right_on='Unique Amino Acid', how='inner')\n",
    "\n",
    "myc_pos_df = myc_pos_df.drop('Unique Amino Acid', axis=1)\n",
    "myc_neg_df = myc_neg_df.drop('Unique Amino Acid', axis=1)\n",
    "ns_df = ns_df.drop('Unique Amino Acid', axis=1)\n",
    "\n",
    "#add column for condition \n",
    "norm_condition = 'unsorted'\n",
    "coi_1 = 'myc_pos'\n",
    "coi_2 = 'myc_neg'\n",
    "\n",
    "coi_1_df = myc_pos_df\n",
    "coi_2_df = myc_neg_df\n",
    "norm_condition_df = ns_df\n",
    "\n",
    "norm_condition_df['Sort_condition'] = norm_condition\n",
    "coi_1_df['Sort_condition'] = coi_1\n",
    "coi_2_df['Sort_condition'] = coi_2\n",
    "\n",
    "for col in norm_condition_df.columns:\n",
    "    print(col)"
   ]
  },
  {
   "cell_type": "code",
   "execution_count": null,
   "metadata": {},
   "outputs": [],
   "source": [
    "#norm all counts to total counts\n",
    "norm_condition_df[f\"norm_counts_{norm_condition}\"] = norm_condition_df[' Unique Amino Acid Count'] /  norm_condition_df[' Unique Amino Acid Count'].sum()\n",
    "coi_1_df[f\"norm_counts_{coi_1}\"] = coi_1_df[' Unique Amino Acid Count'] /  coi_1_df[' Unique Amino Acid Count'].sum()\n",
    "coi_2_df[f\"norm_counts_{coi_2}\"] = coi_2_df[' Unique Amino Acid Count'] /  coi_2_df[' Unique Amino Acid Count'].sum()\n",
    "\n",
    "norm_condition_df.to_csv(f'{outdir}/test_2.csv')\n",
    "coi_1_df.to_csv(f'{outdir}/test_3.csv')\n",
    "\n",
    "merge_df = pd.merge(norm_condition_df, coi_1_df, on=[\"Name\", \"sequence\"])\n",
    "\n",
    "merge_df[f\"{coi_1}_norm\"] = merge_df[f\"norm_counts_{coi_1}\"] /  merge_df[f\"norm_counts_{norm_condition}\"]\n",
    "merge_df[f\"{coi_1}_norm_log\"] = np.log2(merge_df[f\"{coi_1}_norm\"])\n",
    "\n",
    "merge_df[['Name', 'min_category']] = merge_df['Name'].str.split('min_', n=1, expand=True)\n",
    "merge_df[['min_category', 'loop']] = merge_df['min_category'].str.split('_loop', n=1, expand=True)\n",
    "\n",
    "merge_df = merge_df.sort_values(['Name']).reset_index()\n",
    "merge_df.to_csv(f'{outdir}/test.csv')\n",
    "print(merge_df.shape)\n",
    "\n",
    "sns.barplot(merge_df, x='Name', y='myc_pos_norm_log', ci=None)\n",
    "plt.show()\n",
    "plt.clf()\n",
    "\n",
    "sns.violinplot(merge_df, x='min_category', y='myc_pos_norm_log')\n",
    "plt.show()\n",
    "plt.clf()\n",
    "\n",
    "sns.histplot(merge_df, x='myc_pos_norm_log', kde=True, bins=20)\n",
    "plt.show()"
   ]
  }
 ],
 "metadata": {
  "language_info": {
   "name": "python"
  }
 },
 "nbformat": 4,
 "nbformat_minor": 2
}

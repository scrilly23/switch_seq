{
 "cells": [
  {
   "cell_type": "code",
   "execution_count": 24,
   "metadata": {},
   "outputs": [],
   "source": [
    "import pandas as pd\n",
    "import numpy as np\n",
    "import seaborn as sns\n",
    "import matplotlib.pyplot as plt"
   ]
  },
  {
   "cell_type": "markdown",
   "metadata": {},
   "source": [
    "This notebook is for expression data for a yeast display library of coiled coil designs with C-terminal myc tag, sorted into myc positve and myc negative populations. Enrichment in myc positive sample over the unsorted library, or in myc positive over myc negative is an indicator of high surface display. "
   ]
  },
  {
   "cell_type": "code",
   "execution_count": 25,
   "metadata": {},
   "outputs": [],
   "source": [
    "###USER DEFINED VARIABLES####\n",
    "outdir = '/Users/stephaniecrilly/Kortemme_lab/switch_seq'\n",
    "lib_name = 'r1-hs-pilot'\n",
    "rep = 'rep1'\n",
    "#import dfs\n",
    "ordered_seqs_df = pd.read_csv('/Users/stephaniecrilly/Kortemme_lab/helix_sliding/20240304_ngs_data/20240304_all_seqs_r1_order.csv')\n",
    "myc_pos_df = pd.read_csv('/Users/stephaniecrilly/Kortemme_lab/helix_sliding/20240304_ngs_data/30-991152039/UniqueSeq/r1-hs-mycpos_Unique_AA.csv')\n",
    "myc_neg_df = pd.read_csv('/Users/stephaniecrilly/Kortemme_lab/helix_sliding/20240304_ngs_data/30-991152039/UniqueSeq/r1-hs-mycneg_Unique_AA.csv')\n",
    "ns_df  = pd.read_csv('/Users/stephaniecrilly/Kortemme_lab/helix_sliding/20240304_ngs_data/30-991152039/UniqueSeq/r1-hs-ns_Unique_AA.csv')"
   ]
  },
  {
   "cell_type": "code",
   "execution_count": 26,
   "metadata": {},
   "outputs": [
    {
     "name": "stdout",
     "output_type": "stream",
     "text": [
      "94 seqs represented in myc pos sample out of 97 total ordered seqs\n",
      "Missing in myc pos sample:\n",
      "07439_ALFA_52_6_min_2_52_bm01_loop\n",
      "08032_ALFA_53_9_min_2_53_bm01_loop\n",
      "07739_ALFA_53_5_min_2_53_bm01_loop\n",
      "93 seqs represented in myc neg sample out of 97 total ordered seqs\n",
      "Missing in myc neg sample:\n",
      "11535_ALFA_52_10_min_0_52_bm01_loop\n",
      "08032_ALFA_53_9_min_2_53_bm01_loop\n",
      "07739_ALFA_53_5_min_2_53_bm01_loop\n",
      "08643_ALFA_53_3_min_2_53_bm01_loop\n",
      "97 seqs represented in unsorted sample out of 97 total ordered seqs\n",
      "Missing in unsorted sample:\n"
     ]
    }
   ],
   "source": [
    "#drop na\n",
    "myc_pos_df = myc_pos_df.dropna()\n",
    "myc_neg_df = myc_neg_df.dropna()\n",
    "ns_df = ns_df.dropna()\n",
    "\n",
    "#get only design sequences of interest\n",
    "#search translated seqs for ones which start and end with flanking aa\n",
    "mys_pos_df = myc_pos_df[myc_pos_df['Unique Amino Acid'].str.startswith('SASHM')]\n",
    "mys_ned_df = myc_neg_df[myc_neg_df['Unique Amino Acid'].str.startswith('SASHM')]\n",
    "ns_df = ns_df[ns_df['Unique Amino Acid'].str.startswith('SASHM')]\n",
    "\n",
    "myc_pos_df = myc_pos_df[myc_pos_df['Unique Amino Acid'].str.endswith('LEGGG')]\n",
    "myc_neg_df = myc_neg_df[myc_neg_df['Unique Amino Acid'].str.endswith('LEGGG')]\n",
    "ns_df = ns_df[ns_df['Unique Amino Acid'].str.endswith('LEGGG')]\n",
    "\n",
    "#append trailing amino acid to ordered seqs\n",
    "ordered_seqs_df['sequence'] = 'SASHM' + ordered_seqs_df['aa_sequence'].astype(str) + 'LEGGG'\n",
    "\n",
    "#get only seqs in library\n",
    "myc_pos_df = pd.merge(ordered_seqs_df, myc_pos_df, left_on='sequence', right_on='Unique Amino Acid', how='inner')\n",
    "myc_neg_df = pd.merge(ordered_seqs_df, myc_neg_df, left_on='sequence', right_on='Unique Amino Acid', how='inner')\n",
    "ns_df = pd.merge(ordered_seqs_df, ns_df, left_on='sequence', right_on='Unique Amino Acid', how='inner')\n",
    "\n",
    "myc_pos_df = myc_pos_df.drop('Unique Amino Acid', axis=1)\n",
    "myc_neg_df = myc_neg_df.drop('Unique Amino Acid', axis=1)\n",
    "ns_df = ns_df.drop('Unique Amino Acid', axis=1)\n",
    "\n",
    "print(f'{myc_pos_df.shape[0]} seqs represented in myc pos sample out of {ordered_seqs_df.shape[0]} total ordered seqs')\n",
    "print('Missing in myc pos sample:')\n",
    "for seq in ordered_seqs_df['sequence']:\n",
    "    if seq not in myc_pos_df['sequence'].tolist():\n",
    "        print(ordered_seqs_df.loc[ordered_seqs_df['sequence'] == seq, 'Name'].item())\n",
    "\n",
    "print(f'{myc_neg_df.shape[0]} seqs represented in myc neg sample out of {ordered_seqs_df.shape[0]} total ordered seqs')\n",
    "print('Missing in myc neg sample:')\n",
    "for seq in ordered_seqs_df['sequence']:\n",
    "    if seq not in myc_neg_df['sequence'].tolist():\n",
    "        print(ordered_seqs_df.loc[ordered_seqs_df['sequence'] == seq, 'Name'].item())\n",
    "\n",
    "print(f'{ns_df.shape[0]} seqs represented in unsorted sample out of {ordered_seqs_df.shape[0]} total ordered seqs')\n",
    "print('Missing in unsorted sample:')\n",
    "for seq in ordered_seqs_df['sequence']:\n",
    "    if seq not in ns_df['sequence'].tolist():\n",
    "        print(ordered_seqs_df.loc[ordered_seqs_df['sequence'] == seq, 'Name'].item())\n",
    "\n",
    "#add column for condition \n",
    "norm_condition = 'unsorted'\n",
    "coi_1 = 'myc_pos'\n",
    "coi_2 = 'myc_neg'\n",
    "\n",
    "coi_1_df = myc_pos_df\n",
    "coi_2_df = myc_neg_df\n",
    "norm_condition_df = ns_df\n",
    "\n",
    "norm_condition_df['Sort_condition'] = norm_condition\n",
    "coi_1_df['Sort_condition'] = coi_1\n",
    "coi_2_df['Sort_condition'] = coi_2\n"
   ]
  },
  {
   "cell_type": "code",
   "execution_count": 27,
   "metadata": {},
   "outputs": [],
   "source": [
    "#norm all counts to total counts\n",
    "norm_condition_df[f'norm_counts_{norm_condition}'] = norm_condition_df[' Unique Amino Acid Count'] /  norm_condition_df[' Unique Amino Acid Count'].sum()\n",
    "coi_1_df[f'norm_counts_{coi_1}'] = coi_1_df[' Unique Amino Acid Count'] /  coi_1_df[' Unique Amino Acid Count'].sum()\n",
    "coi_2_df[f'norm_counts_{coi_2}'] = coi_2_df[' Unique Amino Acid Count'] /  coi_2_df[' Unique Amino Acid Count'].sum()\n",
    "\n",
    "merge_df = pd.merge(norm_condition_df, coi_1_df, on=['Name', 'sequence', 'aa_sequence'])\n",
    "merge_df = pd.merge(merge_df, coi_2_df, on=['Name', 'sequence', 'aa_sequence'])\n",
    "\n",
    "#norm myc pos to unsorted\n",
    "merge_df[f'{coi_1}_norm_to_{norm_condition}'] = merge_df[f'norm_counts_{coi_1}'] /  merge_df[f'norm_counts_{norm_condition}']\n",
    "merge_df[f'{coi_1}_norm_to_{norm_condition}_log'] = np.log2(merge_df[f'{coi_1}_norm_to_{norm_condition}'])\n",
    "\n",
    "#norm myc pos to myc neg\n",
    "merge_df[f'{coi_1}_norm_to_{coi_2}'] = merge_df[f'norm_counts_{coi_1}'] /  merge_df[f'norm_counts_{coi_2}']\n",
    "merge_df[f'{coi_1}_norm_to_{coi_2}_log'] = np.log2(merge_df[f'{coi_1}_norm_to_{coi_2}'])\n",
    "\n",
    "merge_df = merge_df[['Name', 'sequence', 'aa_sequence', f'norm_counts_{norm_condition}', f'norm_counts_{coi_1}', f'norm_counts_{coi_2}', f'{coi_1}_norm_to_{norm_condition}', f'{coi_1}_norm_to_{norm_condition}_log', f'{coi_1}_norm_to_{coi_2}', f'{coi_1}_norm_to_{coi_2}_log']]\n",
    "\n",
    "merge_df[['min_type']] = merge_df['Name'].str.split(r'ALFA_\\d\\d_\\d{1,2}_').str[1]\n",
    "merge_df[['loop_type']] = merge_df['Name'].str.split(r'min_\\d_\\d\\d_').str[1]\n",
    "merge_df.to_csv(f'{outdir}/{lib_name}_{rep}_expression.csv')\n"
   ]
  },
  {
   "cell_type": "code",
   "execution_count": 28,
   "metadata": {},
   "outputs": [
    {
     "data": {
      "image/png": "[encoded data removed]",
      "text/plain": [
       "<Figure size 720x360 with 2 Axes>"
      ]
     },
     "metadata": {
      "needs_background": "light"
     },
     "output_type": "display_data"
    },
    {
     "data": {
      "text/plain": [
       "<Figure size 432x288 with 0 Axes>"
      ]
     },
     "metadata": {},
     "output_type": "display_data"
    }
   ],
   "source": [
    "#plot\n",
    "min_type = 2 #0 or 2\n",
    "alfa_thread_pos = 52 #52 or 53\n",
    "loop = 'bm01' #g4s or bm01\n",
    "\n",
    "plt.subplots(1, 2, sharey=True, figsize=(10,5))\n",
    "plt.subplot(1,2,1)\n",
    "plotting_df = merge_df.query(f\"min_type == 'min_{min_type}_{alfa_thread_pos}_{loop}_loop'\", engine='python').copy()\n",
    "plt.bar(x=plotting_df['Name'], height=plotting_df['myc_pos_norm_to_unsorted_log'])\n",
    "plt.subplot(1,2,2)\n",
    "plt.bar(x=plotting_df['Name'], height=plotting_df['myc_pos_norm_to_myc_neg_log'])\n",
    "plt.show()\n",
    "plt.clf()"
   ]
  }
 ],
 "metadata": {
  "kernelspec": {
   "display_name": "base",
   "language": "python",
   "name": "python3"
  },
  "language_info": {
   "codemirror_mode": {
    "name": "ipython",
    "version": 3
   },
   "file_extension": ".py",
   "mimetype": "text/x-python",
   "name": "python",
   "nbconvert_exporter": "python",
   "pygments_lexer": "ipython3",
   "version": "3.7.9"
  }
 },
 "nbformat": 4,
 "nbformat_minor": 2
}

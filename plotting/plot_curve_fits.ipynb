{
 "cells": [
  {
   "cell_type": "code",
   "execution_count": 119,
   "id": "2a032bbf-6a57-4ccb-8ad6-8c8464ec561e",
   "metadata": {},
   "outputs": [],
   "source": [
    "import numpy as np\n",
    "import matplotlib.pyplot as plt\n",
    "import seaborn as sns\n",
    "import pandas as pd\n",
    "import scipy.optimize\n",
    "from scipy.optimize import curve_fit\n",
    "import os"
   ]
  },
  {
   "cell_type": "markdown",
   "id": "9be26403",
   "metadata": {},
   "source": [
    "From A Phillips and ZY Weinberg. Fits Kd to tite-seq data using mean bin approach and plots estimated mean log fluorescence and fit curve. \n",
    "See: https://github.com/amphilli/CH65-comblib/tree/main/Kd_Inference"
   ]
  },
  {
   "cell_type": "code",
   "execution_count": 133,
   "id": "6e3d7b58",
   "metadata": {},
   "outputs": [],
   "source": [
    "####USER DEFINED INPUTS####\n",
    "counts_table_path = '/Users/stephaniecrilly/Kortemme_lab/helix_sliding/20240507_r1-hs_tite-seq_rep2_ngs/count_table_swapped_samples.tsv'\n",
    "counts_table = pd.read_csv(counts_table_path, sep='\\t')\n",
    "\n",
    "flow_table_path = '/Users/stephaniecrilly/Kortemme_lab/helix_sliding/20240507_r1-hs_tite-seq_rep2_ngs/flow_table.csv'\n",
    "flow_table = pd.read_csv(flow_table_path)\n",
    "\n",
    "exp_id = 'r1-hs_tite-seq_rep2_fixed_swapped_samples'\n",
    "outdir = '/Users/stephaniecrilly/Kortemme_lab/helix_sliding/figures'\n",
    "\n",
    "if not os.path.exists(outdir):\n",
    "   os.makedirs(outdir)\n"
   ]
  },
  {
   "cell_type": "code",
   "execution_count": 134,
   "id": "50059449",
   "metadata": {},
   "outputs": [],
   "source": [
    "counts = (pd.read_csv(counts_table_path, sep='\\t')\n",
    "          .rename({'design':'geno'}, axis=1)\n",
    "          .replace([np.inf, -np.inf], np.nan)\n",
    "          .dropna())\n",
    "fluor = (pd.read_csv(flow_table_path, sep=',', index_col=0)\n",
    "         .rename({'sample_id': 'sample_name',\n",
    "                  'mean_log10_APC': 'mean_log10_PEs',\n",
    "                  'std_log10_APC': 'std_log10_PEs'}, axis=1)\n",
    "         .replace([np.inf, -np.inf], np.nan)\n",
    "         .dropna())\n",
    "sample_info = fluor[['sample_name', 'concentration', 'concentration_float', 'bin', 'cell count']]\n",
    "fluor = fluor[['sample_name', 'concentration', 'bin', 'mean_log10_PEs', 'std_log10_PEs']]\n",
    "\n",
    "designs = pd.DataFrame()\n",
    "designs['design'] = counts['geno']\n",
    "designs['loop'] = ['bm01' if 'bm01_loop' in design\n",
    "                   else 'g4s' if 'g4s_loop' in design\n",
    "                   else '' for design in designs['design']]\n",
    "designs['offset'] = ['min_0' if 'min_0' in design\n",
    "                   else 'min_2' if 'min_2' in design\n",
    "                   else '' for design in designs['design']]"
   ]
  },
  {
   "cell_type": "code",
   "execution_count": 135,
   "id": "441b85de",
   "metadata": {},
   "outputs": [],
   "source": [
    "####FUNCTIONS####\n",
    "def extractKd(concentrations, bins_mean, bins_std):\n",
    "    \"\"\"\n",
    "        Arguments: concentrations and exponential mean bin numbers (bin number: 1, 2, 3, 4)\n",
    "        Return: -log10(Kd), and the r^2\n",
    "    \"\"\"\n",
    "    popt, pcov = scipy.optimize.curve_fit(sigmoid, concentrations,\n",
    "                                          bins_mean,\n",
    "                                          p0=[(-10), 10**(5), 10**(3)],\n",
    "                                          sigma=bins_std, absolute_sigma=True,\n",
    "                                          bounds=[(-12,\n",
    "                                                   100,\n",
    "                                                   1),\n",
    "                                                  (-7,\n",
    "                                                   1000000,\n",
    "                                                   100000)],\n",
    "                                          maxfev=400000)\n",
    "    return(-1*popt[0], popt[1], popt[2], 1 - np.sum((sigmoid(concentrations, *popt) - bins_mean)**2)/np.sum((bins_mean - bins_mean.mean())**2), np.sqrt(np.diag(pcov))[0])\n",
    "\n",
    "\n",
    "def sigmoid(c, Kd, A, B):\n",
    "    return np.log10(A * (10**c/((10**c)+(10**Kd))) + B)\n",
    "\n",
    "def compute_Kds(sample_info, fluor, df):\n",
    "    sample_info = sample_info[~sample_info.concentration_float.isna()].copy()\n",
    "    nb_bins = sample_info.bin.nunique()\n",
    "    nb_concs = sample_info.concentration.nunique()\n",
    "    concentrations = sample_info.concentration_float.unique()\n",
    "    nb_genos = len(df)\n",
    "    probas = np.zeros((nb_bins, nb_genos, nb_concs))\n",
    "    counts = np.zeros((nb_bins, nb_genos, nb_concs))\n",
    "    cells = np.zeros((nb_bins, nb_concs))\n",
    "    meanfluor, stdfluor = np.zeros((2, nb_bins, nb_concs))\n",
    "    for gate, conc in zip(sample_info['bin'],\n",
    "                                      sample_info['concentration']):\n",
    "        counts[gate-1, :, conc-1] = df[f\"{conc}-{gate}\"]\n",
    "        cells[gate-1, conc-1] = sample_info[(sample_info.concentration == conc)\n",
    "                                    & (sample_info.bin == gate)][\"cell count\"].iloc[0]\n",
    "        meanfluor[gate-1, conc-1] = fluor[(fluor.concentration == conc)\n",
    "                                  & (fluor.bin == gate)][\"mean_log10_PEs\"].iloc[0]\n",
    "        stdfluor[gate-1, conc-1] = fluor[(fluor.concentration == conc)\n",
    "                                 & (fluor.bin == gate)][\"std_log10_PEs\"].iloc[0]\n",
    "\n",
    "    probas = counts / (counts.sum(axis=1)[:, None, :]) * cells[:, None, :]\n",
    "    probas[np.isnan(probas)] = 0.\n",
    "    probas = probas / probas.sum(axis=0)[None, :, :]\n",
    "    mean_log10_fluor = (probas * meanfluor[:, None, :]).sum(axis=0)\n",
    "    std_log10_fluor = np.sqrt((stdfluor[:, None, :]**2 * probas**2\n",
    "                               + meanfluor[:, None, :]**2 * probas**2 / (1e-22 + counts)).sum(axis=0))\n",
    "\n",
    "    # replace the \"0\" concentration by an arbitrary large value (here 20) and invert the values\n",
    "    concentrations = -concentrations\n",
    "    concentrations[concentrations ==\n",
    "                   0] = concentrations[concentrations == 0] - 20\n",
    "    # fit of Kd\n",
    "    Kds, A, B, err, cov = np.zeros((5, nb_genos))\n",
    "    for s in range(nb_genos):\n",
    "        notnanindex = [ii for ii in range(nb_concs)\n",
    "                       if not np.isnan(mean_log10_fluor[s, ii] + std_log10_fluor[s, ii])]\n",
    "        if len(notnanindex) < 4:\n",
    "            Kds[s], A[s], B[s], err[s], cov[s] = [np.nan]*5\n",
    "        # not enough reads\n",
    "        Kds[s], A[s], B[s], err[s], cov[s] = extractKd(concentrations[notnanindex],\n",
    "                                                           mean_log10_fluor[s,\n",
    "                                                                            notnanindex],\n",
    "                                                           std_log10_fluor[s, notnanindex])\n",
    "\n",
    "    return Kds, A, B, err, cov, mean_log10_fluor, std_log10_fluor, concentrations\n"
   ]
  },
  {
   "cell_type": "code",
   "execution_count": 136,
   "id": "bb133e56",
   "metadata": {},
   "outputs": [
    {
     "name": "stderr",
     "output_type": "stream",
     "text": [
      "/var/folders/7h/sws1byhj2pzb__hgp1w6_3j80000gn/T/ipykernel_33810/566637985.py:46: RuntimeWarning: invalid value encountered in divide\n",
      "  probas = probas / probas.sum(axis=0)[None, :, :]\n"
     ]
    }
   ],
   "source": [
    "Kds, As, Bs, errs, covs, mean_log10_PE, std_log10_PE, concs = compute_Kds(\n",
    "        sample_info, fluor, counts)"
   ]
  },
  {
   "cell_type": "code",
   "execution_count": 137,
   "id": "cb136b56-dd03-42eb-9d37-ddcfdcce4751",
   "metadata": {},
   "outputs": [
    {
     "name": "stdout",
     "output_type": "stream",
     "text": [
      "86/97 fits have r^2 > 0.7\n",
      "Bad fits:\n",
      "10    07138_ALFA_52_2_min_2_52_bm01_loop\n",
      "17     07439_ALFA_52_5_min_2_52_g4s_loop\n",
      "22    07732_ALFA_53_5_min_2_53_bm01_loop\n",
      "25    07739_ALFA_53_5_min_2_53_bm01_loop\n",
      "26     07739_ALFA_53_5_min_2_53_g4s_loop\n",
      "27     07751_ALFA_52_1_min_2_52_g4s_loop\n",
      "30    08032_ALFA_53_9_min_2_53_bm01_loop\n",
      "36    08632_ALFA_53_7_min_2_53_bm01_loop\n",
      "45    08643_ALFA_53_3_min_2_53_bm01_loop\n",
      "48    08940_ALFA_53_4_min_2_53_bm01_loop\n",
      "80    13337_ALFA_52_8_min_0_52_bm01_loop\n",
      "Name: geno, dtype: object\n"
     ]
    }
   ],
   "source": [
    "#filter for good fits\n",
    "r2_cutoff = 0.7\n",
    "\n",
    "okay_fits = np.flatnonzero(errs>0.7)\n",
    "bad_fits = np.flatnonzero(errs<=0.7)\n",
    "\n",
    "print(f'{len(okay_fits)}/{len(errs)} fits have r^2 > {r2_cutoff}')\n",
    "\n",
    "print('Bad fits:')\n",
    "print(counts.loc[bad_fits,'geno'])"
   ]
  },
  {
   "cell_type": "code",
   "execution_count": 139,
   "id": "4a343399",
   "metadata": {},
   "outputs": [
    {
     "data": {
      "text/plain": [
       "<Figure size 640x480 with 0 Axes>"
      ]
     },
     "metadata": {},
     "output_type": "display_data"
    }
   ],
   "source": [
    "#plot for controls\n",
    "#create master df with all fit parameters\n",
    "concentrations = (np.sort(np.unique(sample_info.concentration_float)))[::-1]\n",
    "long_concs = np.linspace(concentrations[-1], concentrations[0], 100)\n",
    "selected_designs = ['bm01_ALFA_1c', 'bm01_ALFA_t2', 'bm01_ALFA_t3', 'bm01_ALFA_t6']\n",
    "design_label = ['Design-1c', 'Design-2', 'Design-3', 'Design-6']\n",
    "color_palette = ['cyan', 'red', 'orange', 'green']\n",
    "\n",
    "for i,j in enumerate(selected_designs):\n",
    "    design = counts.loc[counts['geno']== f'{j}'].index[0]\n",
    "    design_name = counts.loc[design,'geno']\n",
    "    color = color_palette[i]\n",
    "\n",
    "    plt.scatter(np.sort(10**-concentrations), mean_log10_PE[design,:][::-1], label=f'{design_label[i]}, Kd (pM): {round(10**-Kds[design]*1e12)}', color=color_palette[i])\n",
    "    plt.plot(np.sort(10**-long_concs), sigmoid(-long_concs, -Kds[design],As[design],Bs[design])[::-1], color=color_palette[i])\n",
    "\n",
    "plt.xscale('log')\n",
    "plt.xlabel('[Anti-ALFA] M', fontsize=16)\n",
    "plt.ylabel('Fluorescence (Log AU)', fontsize=16)\n",
    "plt.xticks(fontsize=16)\n",
    "plt.yticks(fontsize=16)\n",
    "plt.legend(loc='upper center', bbox_to_anchor=[0.5,1.5], fontsize=16)\n",
    "\n",
    "plt.show()\n",
    "#plt.savefig(f'{outdir}/tite-seq_fits/{exp_id}_all_controls_pred_fluor.png', dpi=300, bbox_inches = 'tight')\n",
    "plt.clf()"
   ]
  },
  {
   "cell_type": "code",
   "execution_count": 126,
   "id": "4bf4ab2a",
   "metadata": {},
   "outputs": [
    {
     "data": {
      "text/plain": [
       "<Figure size 640x480 with 0 Axes>"
      ]
     },
     "metadata": {},
     "output_type": "display_data"
    }
   ],
   "source": [
    "#save plots with fit line for all fits with reasonable r^2\n",
    "for i in range(0,len(okay_fits)):\n",
    "    design = okay_fits[i]\n",
    "    design_name = counts.loc[design,'geno']\n",
    "\n",
    "    plt.scatter(np.sort(10**-concentrations), mean_log10_PE[design,:][::-1], label='pred fluor')\n",
    "    plt.plot(np.sort(10**-long_concs), sigmoid(-long_concs, -Kds[design],As[design],Bs[design])[::-1], label='fit line')\n",
    "\n",
    "    plt.xscale('log')\n",
    "    plt.xlabel('[Anti-ALFA] M', fontsize=16)\n",
    "    plt.ylabel('Fluorescence (Log AU)', fontsize=16)\n",
    "    plt.title(f'{design_name}\\nKd: {round(10**-Kds[design]*1e12)} pM', fontsize=16)\n",
    "    plt.xticks(fontsize=16)\n",
    "    plt.yticks(fontsize=16)\n",
    "    plt.legend(loc='lower right', fontsize=16)\n",
    "    plt.show()\n",
    "    #plt.savefig(f'{outdir}/tite-seq_fits/{exp_id}_{design_name}_fit_good_r2.png', dpi=300, bbox_inches = 'tight')\n",
    "    plt.clf()"
   ]
  },
  {
   "cell_type": "code",
   "execution_count": 127,
   "id": "eab3491f",
   "metadata": {},
   "outputs": [
    {
     "data": {
      "text/plain": [
       "<Figure size 640x480 with 0 Axes>"
      ]
     },
     "metadata": {},
     "output_type": "display_data"
    }
   ],
   "source": [
    "#save plots with fit line for all fits with bad r^2\n",
    "for i in range(0,len(bad_fits)):\n",
    "    design = bad_fits[i]\n",
    "    design_name = counts.loc[design,'geno']\n",
    "\n",
    "    plt.scatter(np.sort(10**-concentrations), mean_log10_PE[design,:][::-1], label='pred fluor')\n",
    "    plt.plot(np.sort(10**-long_concs), sigmoid(-long_concs, -Kds[design],As[design],Bs[design])[::-1], label='fit line')\n",
    "\n",
    "    plt.xscale('log')\n",
    "    plt.xlabel('[Anti-ALFA] M', fontsize=16)\n",
    "    plt.ylabel('Fluorescence (Log AU)', fontsize=16)\n",
    "    plt.title(f'{design_name}\\nKd: {round(10**-Kds[design]*1e12)} pM', fontsize=16)\n",
    "    plt.xticks(fontsize=16)\n",
    "    plt.yticks(fontsize=16)\n",
    "    plt.legend(loc='lower right', fontsize=16)\n",
    "    plt.show()\n",
    "    #plt.savefig(f'{outdir}/tite-seq_fits/{exp_id}_{design_name}_fit_bad_r2.png', dpi=300, bbox_inches = 'tight')\n",
    "    plt.clf()"
   ]
  },
  {
   "cell_type": "code",
   "execution_count": 128,
   "id": "fcb61186",
   "metadata": {},
   "outputs": [
    {
     "data": {
      "image/png": "[encoded data removed]",
      "text/plain": [
       "<Figure size 640x480 with 1 Axes>"
      ]
     },
     "metadata": {},
     "output_type": "display_data"
    }
   ],
   "source": [
    "#histogram of Kds colored by design group\n",
    "fits = pd.DataFrame({'Kds':Kds, 'As':As, 'Bs':Bs, 'errs':errs, 'covs':covs})\n",
    "counts_and_fits = pd.concat([counts, fits], axis=1)\n",
    "\n",
    "counts_and_fits = counts_and_fits[['geno', 'Kds', 'As', 'Bs', 'errs', 'covs']]\n",
    "\n",
    "#transform Kd\n",
    "counts_and_fits['Kds'] = -counts_and_fits['Kds']\n",
    "#print(counts_and_fits)\n",
    "\n",
    "counts_and_fits_min_type = counts_and_fits['geno'].tolist()\n",
    "\n",
    "min_type_list = []\n",
    "for i in counts_and_fits_min_type:\n",
    "    if 'min_0' in i:\n",
    "        min_type_list.append('min_0')\n",
    "    elif 'min_2' in i:\n",
    "        min_type_list.append('min_2')\n",
    "    else:\n",
    "        min_type_list.append('bm01_ctrl')\n",
    "\n",
    "counts_and_fits['design_type'] = min_type_list\n",
    "\n",
    "sns.histplot(counts_and_fits, x='Kds', bins=20, hue='design_type', palette='viridis', kde=True)\n",
    "plt.ylabel('Counts', fontsize=16)\n",
    "plt.xlabel('log10(Kd)', fontsize=16)\n",
    "#plt.legend(fontsize=16)\n",
    "plt.xticks(fontsize=16)\n",
    "plt.yticks(fontsize=16)\n",
    "\n",
    "plt.show()\n",
    "#plt.savefig(f'{outdir}/{exp_id}_kds_histplot.png', dpi=300, bbox_inches = 'tight')\n"
   ]
  },
  {
   "cell_type": "code",
   "execution_count": 132,
   "id": "ee6889d7",
   "metadata": {},
   "outputs": [
    {
     "name": "stdout",
     "output_type": "stream",
     "text": [
      "0.775959374638642\n",
      "0.765400779032413\n",
      "(54, 13)\n"
     ]
    },
    {
     "data": {
      "text/plain": [
       "<Figure size 640x480 with 0 Axes>"
      ]
     },
     "metadata": {},
     "output_type": "display_data"
    }
   ],
   "source": [
    "#compare Kds fro dynamic gating vs static gating approach\n",
    "rep1_kds_df_path = '/Users/stephaniecrilly/Kortemme_lab/switch_seq/Kds.csv' #static gating approach\n",
    "rep2_kds_df_path = '/Users/stephaniecrilly/Kortemme_lab/switch_seq/r1-hs_tite-seq_rep2_fixed_swapped_samples_Kds.csv' #dynamic gating approach\n",
    "\n",
    "rep1_kds_df = pd.read_csv(rep1_kds_df_path)\n",
    "rep2_kds_df = pd.read_csv(rep2_kds_df_path)\n",
    "\n",
    "#correlation\n",
    "corr = rep1_kds_df['Kds'].corr(rep2_kds_df['Kds'], method='pearson')\n",
    "print(corr)\n",
    "\n",
    "#plot scatter and correlation for all Kds\n",
    "plt.scatter(rep1_kds_df['Kds'], rep2_kds_df['Kds'])\n",
    "plt.axline((6,6),slope=1,linestyle='-',color='black', label=f'Pearson corr: {round(corr, 2)}')\n",
    "plt.xlim(6,12)\n",
    "plt.ylim(6,12)\n",
    "plt.ylabel('Rep 2: dynamic gating (-log10(Kd))', fontsize=16)\n",
    "plt.xlabel('Rep 1: static gating (-log10(Kd))', fontsize=16)\n",
    "plt.title('All designs', fontsize=16)\n",
    "plt.xticks(fontsize=16)\n",
    "plt.yticks(fontsize=16)\n",
    "plt.legend()\n",
    "plt.show()\n",
    "#plt.savefig(f'{outdir}/r1-hs-tite_seq_rep_compare_kds_scatterplot.png', dpi=300, bbox_inches = 'tight')\n",
    "plt.clf()\n",
    "\n",
    "#plot scatter and correlation for Kds from designs with good fits\n",
    "rep1_kds_good_fits_df = rep1_kds_df.loc[rep1_kds_df['errs']>0.7]\n",
    "rep2_kds_good_fits_df = rep2_kds_df.loc[rep2_kds_df['errs']>0.7]\n",
    "merge_df = pd.merge(rep1_kds_good_fits_df, rep2_kds_good_fits_df, on='geno', suffixes=('_r1', '_r2'), how='inner')\n",
    "\n",
    "#correlation\n",
    "corr = merge_df['Kds_r1'].corr(merge_df['Kds_r2'], method='pearson')\n",
    "print(corr)\n",
    "print(merge_df.shape)\n",
    "\n",
    "#plot\n",
    "plt.scatter(merge_df['Kds_r1'], merge_df['Kds_r2'])\n",
    "plt.axline( (6,6),slope=1,linestyle='-',color='black', label=f'Pearson corr: {round(corr, 2)}')\n",
    "plt.xlim(6,12)\n",
    "plt.ylim(6,12)\n",
    "plt.ylabel('Rep 2: dynamic gating (-log10(Kd))', fontsize=16)\n",
    "plt.xlabel('Rep 1: static gating (-log10(Kd))', fontsize=16)\n",
    "plt.title('Designs with good fits (r^2 > 0.7)', fontsize=16)\n",
    "plt.xticks(fontsize=16)\n",
    "plt.yticks(fontsize=16)\n",
    "plt.legend()\n",
    "plt.show()\n",
    "#plt.savefig(f'{outdir}/r1-hs-tite_seq_rep_compare_kds_good_fits_scatterplot.png', dpi=300, bbox_inches = 'tight')\n",
    "plt.clf()"
   ]
  }
 ],
 "metadata": {
  "kernelspec": {
   "display_name": "omicron",
   "language": "python",
   "name": "python3"
  },
  "language_info": {
   "codemirror_mode": {
    "name": "ipython",
    "version": 3
   },
   "file_extension": ".py",
   "mimetype": "text/x-python",
   "name": "python",
   "nbconvert_exporter": "python",
   "pygments_lexer": "ipython3",
   "version": "3.8.19"
  }
 },
 "nbformat": 4,
 "nbformat_minor": 5
}
